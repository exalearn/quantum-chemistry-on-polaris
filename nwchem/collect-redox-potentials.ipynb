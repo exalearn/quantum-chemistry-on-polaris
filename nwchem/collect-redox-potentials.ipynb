{
 "cells": [
  {
   "cell_type": "markdown",
   "id": "79add5f5-6537-4314-91e6-e5ed703e2cc5",
   "metadata": {},
   "source": [
    "## Compile the redox potentials\n",
    "We want to see what the energy differences for different methods are\n"
   ]
  },
  {
   "cell_type": "code",
   "execution_count": 1,
   "id": "4e5bed46-4376-40ef-bb59-b8898e4e9a27",
   "metadata": {},
   "outputs": [],
   "source": [
    "import pandas as pd\n",
    "from ase.db import connect"
   ]
  },
  {
   "cell_type": "markdown",
   "id": "b058d8fd-7af1-413d-9945-bb1f7678c7c6",
   "metadata": {},
   "source": [
    "## Load the Database into Pandas\n",
    "Get the energies for each system for each NWChem setting"
   ]
  },
  {
   "cell_type": "code",
   "execution_count": 2,
   "id": "3bbb5cc1-8e8d-41d8-bd3c-78304e987eed",
   "metadata": {},
   "outputs": [
    {
     "name": "stdout",
     "output_type": "stream",
     "text": [
      "Loaded 98 computations\n"
     ]
    }
   ],
   "source": [
    "data = []\n",
    "with connect('data.db') as db:\n",
    "    for row in db.select(''):\n",
    "        record = row.key_value_pairs.copy()\n",
    "        record['energy'] = row.energy\n",
    "        data.append(record)\n",
    "data = pd.DataFrame(data)\n",
    "print(f'Loaded {len(data)} computations')"
   ]
  },
  {
   "cell_type": "markdown",
   "id": "045724e0-1d44-4afe-a128-4b24b0695340",
   "metadata": {},
   "source": [
    "## Compute the redox potentials\n",
    "Get the energy differences between different stats"
   ]
  },
  {
   "cell_type": "code",
   "execution_count": 3,
   "id": "44b240cf-841f-4da2-a35f-5306b678db05",
   "metadata": {},
   "outputs": [],
   "source": [
    "method_keys = ['pre_relax_threshold', 'pre_basis_set', 'basis_set', 'xc']\n",
    "records = []\n",
    "for level_id, (level, subset) in enumerate(data.groupby(method_keys)):\n",
    "    method_desc = dict(zip(method_keys, level))\n",
    "    \n",
    "    # Match states\n",
    "    neutrals = subset.query('state==\"neutral\"')\n",
    "    for state in ['oxidized', 'reduced']:\n",
    "        redoxed = subset.query(f'state==\"{state}\"')\n",
    "        merged = redoxed.merge(neutrals, on='inchi_key')\n",
    "        \n",
    "        # Create a record for each\n",
    "        for _, row in merged.iterrows():\n",
    "            record = {}\n",
    "            record['inchi_key'] = row['inchi_key']\n",
    "            record['state'] = state\n",
    "            record['potential'] = row['energy_x'] - row['energy_y']\n",
    "            record['runtime'] = row['runtime_x'] + row['runtime_y']\n",
    "            record['guess_runtime'] = row['guess_runtime_x'] + row['guess_runtime_y']\n",
    "            record['level_id'] = level_id\n",
    "            record.update(method_desc)\n",
    "            records.append(record)\n",
    "records = pd.DataFrame(records)"
   ]
  },
  {
   "cell_type": "code",
   "execution_count": 4,
   "id": "113aa41d-6ae7-4b0c-89c6-7848ecd3a141",
   "metadata": {},
   "outputs": [],
   "source": [
    "records.to_csv('nwchem-redox-potentials.csv', index=False)"
   ]
  },
  {
   "cell_type": "code",
   "execution_count": null,
   "id": "803c85fe-0efa-4192-9630-d083b4d44d9f",
   "metadata": {},
   "outputs": [],
   "source": []
  }
 ],
 "metadata": {
  "kernelspec": {
   "display_name": "Python 3 (ipykernel)",
   "language": "python",
   "name": "python3"
  },
  "language_info": {
   "codemirror_mode": {
    "name": "ipython",
    "version": 3
   },
   "file_extension": ".py",
   "mimetype": "text/x-python",
   "name": "python",
   "nbconvert_exporter": "python",
   "pygments_lexer": "ipython3",
   "version": "3.10.6"
  }
 },
 "nbformat": 4,
 "nbformat_minor": 5
}
