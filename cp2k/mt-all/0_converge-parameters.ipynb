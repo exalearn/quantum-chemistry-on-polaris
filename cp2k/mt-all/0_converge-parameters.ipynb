{
 "cells": [
  {
   "cell_type": "markdown",
   "id": "1bf74478-4808-41b9-a46d-6aaeef8bbeb3",
   "metadata": {},
   "source": [
    "# Converge Parameters\n",
    "We want to find the minimum cutoff energy and buffer around the molecule."
   ]
  },
  {
   "cell_type": "code",
   "execution_count": 1,
   "id": "ff4e33a7-2ba4-4254-856c-568fa34d861c",
   "metadata": {},
   "outputs": [],
   "source": [
    "%matplotlib inline\n",
    "from matplotlib import pyplot as plt\n",
    "from ase.calculators.cp2k import CP2K\n",
    "from time import perf_counter\n",
    "from pathlib import Path\n",
    "from io import StringIO\n",
    "from ase.io import read\n",
    "from ase import units\n",
    "from tqdm import tqdm\n",
    "import pandas as pd\n",
    "import numpy as np\n",
    "import json\n",
    "import os"
   ]
  },
  {
   "cell_type": "markdown",
   "id": "ffe816a4-ffe8-4912-b08a-32120c44abc7",
   "metadata": {},
   "source": [
    "Configuration"
   ]
  },
  {
   "cell_type": "code",
   "execution_count": 2,
   "id": "cbf57d4b-d4a3-405f-bf41-ec3cebc35d79",
   "metadata": {
    "tags": [
     "parameters"
    ]
   },
   "outputs": [],
   "source": [
    "mol_id: int = 10\n",
    "xc: str = 'HYB_GGA_XC_B3LYP'\n",
    "basis_set: str = 'def2-SVP'\n",
    "basis_set_file: str = '../basis-sets/DEF2_BASIS_SETS'\n",
    "charge: int = 0\n",
    "chosen_cutoff: float = 500  # The cutoff used for buffer size tests\n",
    "default_buffer: float = 4.  # The buffer size used for the cutoff tests\n",
    "results_file = Path('convergence-results.json')"
   ]
  },
  {
   "cell_type": "markdown",
   "id": "ad8150b7-fdb5-414f-9ec4-3b47c05a95be",
   "metadata": {},
   "source": [
    "## Get Example Molecules\n",
    "We'll test on something with a small molecule."
   ]
  },
  {
   "cell_type": "code",
   "execution_count": 3,
   "id": "dda8b206-2d7f-4671-8c0e-7db7830652af",
   "metadata": {},
   "outputs": [
    {
     "name": "stdout",
     "output_type": "stream",
     "text": [
      "Loaded a total of 12 molecules\n"
     ]
    }
   ],
   "source": [
    "molecules = pd.read_csv('../../data/example_molecules.csv')\n",
    "print(f'Loaded a total of {len(molecules)} molecules')"
   ]
  },
  {
   "cell_type": "code",
   "execution_count": 4,
   "id": "96c1b7bf-11e0-4a29-b029-791d4e5378db",
   "metadata": {},
   "outputs": [
    {
     "data": {
      "text/plain": [
       "Atoms(symbols='C5SO2C9H14', pbc=False)"
      ]
     },
     "execution_count": 4,
     "metadata": {},
     "output_type": "execute_result"
    }
   ],
   "source": [
    "row = molecules.iloc[mol_id]\n",
    "atoms = read(StringIO(row['xyz_neutral']), format='xyz').copy()\n",
    "atoms"
   ]
  },
  {
   "cell_type": "markdown",
   "id": "6a6ad781-8d41-4c11-acc0-76a3343a70a0",
   "metadata": {},
   "source": [
    "CP2K requires us to define a cell even for non-periodic systems"
   ]
  },
  {
   "cell_type": "code",
   "execution_count": 5,
   "id": "059663a6-2447-43de-a0bb-b1e8e15c6742",
   "metadata": {},
   "outputs": [
    {
     "data": {
      "text/plain": [
       "array([10.99355212,  5.05090312,  5.3241774 ])"
      ]
     },
     "execution_count": 5,
     "metadata": {},
     "output_type": "execute_result"
    }
   ],
   "source": [
    "molecule_length = atoms.positions.max(axis=0) - atoms.positions.min(axis=0)\n",
    "molecule_length"
   ]
  },
  {
   "cell_type": "code",
   "execution_count": 6,
   "id": "aaae25c2-55f0-44aa-acd3-b85c4fd671ad",
   "metadata": {},
   "outputs": [],
   "source": [
    "def buffer_cell(atoms, buffer_size: float = 6.): \n",
    "    \"\"\"How to buffer the cell such that it has a vacuum layer around the side\n",
    "    \n",
    "    Args:\n",
    "        atoms: Atoms to be centered\n",
    "        positions: Size of the buffer to place around the atoms\n",
    "    \"\"\"\n",
    "\n",
    "    atoms.positions -= atoms.positions.min(axis=0)\n",
    "    atoms.cell = atoms.positions.max(axis=0) + buffer_size * 2\n",
    "    atoms.positions += atoms.cell.max(axis=0) / 2 - atoms.positions.mean(axis=0)\n",
    "buffer_cell(atoms, default_buffer)"
   ]
  },
  {
   "cell_type": "markdown",
   "id": "754a2771-57c4-4776-af8e-878112b14f73",
   "metadata": {},
   "source": [
    "## Evalute the effect of convergence of buffer size and cutoff\n",
    "These should be all we need to converge"
   ]
  },
  {
   "cell_type": "code",
   "execution_count": 7,
   "id": "2fea7a26-6bf9-43eb-a225-a9f89723109b",
   "metadata": {},
   "outputs": [],
   "source": [
    "cp2k_opts = dict(\n",
    "    xc=None,\n",
    "    inp=f\"\"\"\n",
    "&FORCE_EVAL\n",
    "&DFT\n",
    "  &XC\n",
    "     &XC_FUNCTIONAL \n",
    "         &{xc}\n",
    "         &END {xc}\n",
    "     &END XC_FUNCTIONAL\n",
    "  &END XC\n",
    "  &MGRID\n",
    "      NGRIDS 1\n",
    "  &END MGRID\n",
    "  &POISSON\n",
    "     PERIODIC NONE\n",
    "     PSOLVER MT\n",
    "  &END POISSON\n",
    "  &SCF\n",
    "    &OT T\n",
    "      PRECONDITIONER FULL_ALL\n",
    "    &END OT\n",
    "  &END SCF\n",
    "  &QS\n",
    "     EXTRAPOLATION USE_GUESS\n",
    "     METHOD GAPW\n",
    "  &END QS\n",
    "&END DFT\n",
    "&END FORCE_EVAL\"\"\",\n",
    "    basis_set_file=basis_set_file,\n",
    "    basis_set=basis_set,\n",
    "    pseudo_potential='ALL',\n",
    "    potential_file='ALL_POTENTIALS',\n",
    "    poisson_solver=None,\n",
    ")  # Use BLYP as we have PPs for it\n",
    "calc = CP2K(charge=charge, uks=charge!=0, max_scf=1,\n",
    "            directory='conv',\n",
    "            command='/home/lward/Software/cp2k-2022.2/exe/local_cuda/cp2k_shell.ssmp',\n",
    "            **cp2k_opts)"
   ]
  },
  {
   "cell_type": "code",
   "execution_count": 8,
   "id": "0faf9bda-d4ad-484c-9615-05ef6e542774",
   "metadata": {},
   "outputs": [
    {
     "name": "stdout",
     "output_type": "stream",
     "text": [
      "Testing 5 energies\n"
     ]
    }
   ],
   "source": [
    "cutoffs = np.arange(100., 500.1, 100.)\n",
    "print(f'Testing {len(cutoffs)} energies')"
   ]
  },
  {
   "cell_type": "markdown",
   "id": "96f21145-a50e-4087-8447-0d7b499ae991",
   "metadata": {},
   "source": [
    "Test many cutoff energies"
   ]
  },
  {
   "cell_type": "code",
   "execution_count": 9,
   "id": "38a25a67-7e10-4b1e-911b-10caf4619a89",
   "metadata": {},
   "outputs": [],
   "source": [
    "def _run_cp2k(atoms, cutoff, buffer):\n",
    "    \"\"\"Run CP2K if settings are not done yet\n",
    "    \n",
    "    Args:\n",
    "        atoms: Molecule to run\n",
    "        cutoff: Cutoff energy (Ry)\n",
    "        buffer: Buffer length (Ang)\n",
    "    Returns:\n",
    "        - Energy\n",
    "        - Forces\n",
    "    \"\"\"\n",
    "    \n",
    "    # Load the most recent copy of the results table\n",
    "    previous = {}  # (file_ind, basis, cutoff) -> {'energy': ..., 'forces': ...}\n",
    "    if results_file.is_file():\n",
    "        with results_file.open() as fp:\n",
    "            for l in fp:\n",
    "                record = json.loads(l)\n",
    "                previous[(record.pop('mol_ind'), record.pop('charge'), record.pop('xc'), record.pop('basis'), record.pop('cutoff'), record.pop('buffer'))] = record\n",
    "    buffer_cell(atoms, buffer)\n",
    "\n",
    "    if (result := previous.get((mol_id, charge, xc, basis_set, cutoff, buffer), None)) is None:\n",
    "        # Run if it isn't done yet\n",
    "        calc.set(cutoff=cutoff * units.Ry)\n",
    "        start_time = perf_counter()\n",
    "        my_forces = calc.get_forces(atoms)\n",
    "        my_energy = calc.get_potential_energy(atoms)\n",
    "        run_time = perf_counter() - start_time\n",
    "\n",
    "        # Write to disk\n",
    "        with results_file.open('a') as fp:\n",
    "            print(json.dumps({\n",
    "                'mol_ind': mol_id,\n",
    "                'charge': charge,\n",
    "                'xc': xc,\n",
    "                'basis': basis_set,\n",
    "                'cutoff': cutoff,\n",
    "                'buffer': buffer,\n",
    "                'energy': my_energy,\n",
    "                'forces': my_forces.tolist(),\n",
    "                'num_atoms': len(atoms),\n",
    "                'runtime': run_time,\n",
    "            }), file=fp)\n",
    "    else:\n",
    "        my_forces = np.array(result['forces'])\n",
    "        my_energy = result['energy']\n",
    "    return my_energy, my_forces"
   ]
  },
  {
   "cell_type": "code",
   "execution_count": 10,
   "id": "6765ba4f-927a-42f4-a9a6-fb45f610e130",
   "metadata": {},
   "outputs": [
    {
     "name": "stderr",
     "output_type": "stream",
     "text": [
      "100%|███████████████████████████████████████████████████████████████████████████████████████████████████████████████████████████████████████████████████████████████████████████████████████████████████████████████████████████████████████████████████████| 5/5 [00:43<00:00,  8.69s/it]\n"
     ]
    }
   ],
   "source": [
    "forces = []\n",
    "energy = []\n",
    "for cutoff in tqdm(cutoffs):\n",
    "    my_energy, my_forces = _run_cp2k(atoms, cutoff, default_buffer)\n",
    "        \n",
    "    forces.append(my_forces)\n",
    "    energy.append(my_energy)"
   ]
  },
  {
   "cell_type": "code",
   "execution_count": 11,
   "id": "92ac9f12-d3e4-4615-9fd1-f2c6ddf8f2a7",
   "metadata": {},
   "outputs": [
    {
     "data": {
      "image/png": "[encoded data removed]",
      "text/plain": [
       "<Figure size 350x250 with 1 Axes>"
      ]
     },
     "metadata": {},
     "output_type": "display_data"
    }
   ],
   "source": [
    "fig, ax = plt.subplots(figsize=(3.5, 2.5))\n",
    "\n",
    "rmse = [np.sqrt(np.power(f - forces[-1], 2).mean()) for f in forces]\n",
    "ax.semilogy(cutoffs[:-1], rmse[:-1], '--o')\n",
    "\n",
    "ax.set_xlim(ax.get_xlim())\n",
    "ax.plot(ax.get_xlim(), [1e-2]*2, 'k--', lw=1)\n",
    "\n",
    "ax.set_xlabel('Cutoff (Ry)')\n",
    "ax.set_ylabel('RMSE (eV/$\\\\AA$)')\n",
    "fig.tight_layout()\n",
    "fig.savefig('figures/cutoff-convergence-forces.png', dpi=320)"
   ]
  },
  {
   "cell_type": "code",
   "execution_count": 12,
   "id": "f5969512-7464-47b3-9d6a-0033423302af",
   "metadata": {},
   "outputs": [
    {
     "data": {
      "image/png": "[encoded data removed]",
      "text/plain": [
       "<Figure size 350x250 with 1 Axes>"
      ]
     },
     "metadata": {},
     "output_type": "display_data"
    }
   ],
   "source": [
    "fig, ax = plt.subplots(figsize=(3.5, 2.5))\n",
    "\n",
    "ax.plot(cutoffs, np.subtract(energy, energy[-1]) / len(atoms), '--o')\n",
    "\n",
    "ax.set_xlim(ax.get_xlim())\n",
    "ax.plot(ax.get_xlim(), [1e-3]*2, 'k--', lw=1)\n",
    "ax.plot(ax.get_xlim(), [-1e-3]*2, 'k--', lw=1)\n",
    "\n",
    "ax.set_yscale('symlog', linthresh=1e-4)\n",
    "\n",
    "ax.set_xlabel('Cutoff (eV)')\n",
    "ax.set_ylabel('Energy Diff. (eV/atom)')\n",
    "fig.tight_layout()\n",
    "fig.savefig('figures/cutoff-convergence-energy.png', dpi=320)"
   ]
  },
  {
   "cell_type": "markdown",
   "id": "00389229-ba55-4db0-ab73-f2e318649963",
   "metadata": {},
   "source": [
    "It seems like a cutoff of 500 is sufficient to get forces within 10 meV/Ang and energies within 1 meV/atom"
   ]
  },
  {
   "cell_type": "code",
   "execution_count": 13,
   "id": "fef0067e-cab7-4a68-a6a4-854353228a4c",
   "metadata": {},
   "outputs": [],
   "source": [
    "buffers = np.arange(2., 9.1, 1.)\n",
    "calc.set(cutoff=chosen_cutoff * units.Ry)"
   ]
  },
  {
   "cell_type": "code",
   "execution_count": 14,
   "id": "f36adc58-cfaf-422c-b49a-8fec7b29e015",
   "metadata": {},
   "outputs": [
    {
     "name": "stderr",
     "output_type": "stream",
     "text": [
      " 88%|████████████████████████████████████████████████████████████████████████████████████████████████████████████████████████████████████████████████████████████████████████████████████████████████████████████████████████▏                              | 7/8 [02:50<00:35, 35.26s/it]ERROR: cudaErrorMemoryAllocation /home/lward/Software/cp2k-2022.2/src/offload/offload_buffer.c 40\n",
      "\n",
      "Program received signal SIGABRT: Process abort signal.\n",
      "\n",
      "Backtrace for this error:\n",
      "#0  0x7f3ead023960 in ???\n",
      "#1  0x7f3ead022ac5 in ???\n",
      "#2  0x7f3eacc4251f in ???\n",
      "\tat ./signal/../sysdeps/unix/sysv/linux/x86_64/libc_sigaction.c:0\n",
      "#3  0x7f3eacc96a7c in __pthread_kill_implementation\n",
      "\tat ./nptl/pthread_kill.c:44\n",
      "#4  0x7f3eacc96a7c in __pthread_kill_internal\n",
      "\tat ./nptl/pthread_kill.c:78\n",
      "#5  0x7f3eacc96a7c in __GI___pthread_kill\n",
      "\tat ./nptl/pthread_kill.c:89\n",
      "#6  0x7f3eacc42475 in __GI_raise\n",
      "\tat ../sysdeps/posix/raise.c:26\n",
      "#7  0x7f3eacc287f2 in __GI_abort\n",
      "\tat ./stdlib/abort.c:79\n",
      "#8  0x562429515ccc in offload_create_buffer\n",
      "\tat /home/lward/Software/cp2k-2022.2/src/offload/offload_buffer.c:40\n",
      "#9  0x562429515621 in __offload_api_MOD_offload_create_buffer\n",
      "\tat /home/lward/Software/cp2k-2022.2/src/offload/offload_api.F:265\n",
      "#10  0x5624292f6fec in __realspace_grid_types_MOD_rs_grid_create\n",
      "\tat /home/lward/Software/cp2k-2022.2/src/pw/realspace_grid_types.F:544\n",
      "#11  0x562427545263 in __qs_rho0_ggrid_MOD_integrate_vhg0_rspace\n",
      "\tat /home/lward/Software/cp2k-2022.2/src/qs_rho0_ggrid.F:480\n",
      "#12  0x5624277deaa0 in __qs_ks_methods_MOD_qs_ks_build_kohn_sham_matrix\n",
      "\tat /home/lward/Software/cp2k-2022.2/src/qs_ks_methods.F:766\n",
      "#13  0x5624277e4501 in rebuild_ks_matrix\n",
      "\tat /home/lward/Software/cp2k-2022.2/src/qs_ks_methods.F:1267\n",
      "#14  0x5624277e4501 in __qs_ks_methods_MOD_qs_ks_update_qs_env\n",
      "\tat /home/lward/Software/cp2k-2022.2/src/qs_ks_methods.F:1174\n",
      "#15  0x562427a7a43d in init_scf_loop\n",
      "\tat /home/lward/Software/cp2k-2022.2/src/qs_scf.F:795\n",
      "#16  0x562427a7a43d in __qs_scf_MOD_scf_env_do_scf\n",
      "\tat /home/lward/Software/cp2k-2022.2/src/qs_scf.F:455\n",
      "#17  0x562427a858a3 in __qs_scf_MOD_scf\n",
      "\tat /home/lward/Software/cp2k-2022.2/src/qs_scf.F:243\n",
      "#18  0x562427272823 in __qs_energy_MOD_qs_energies\n",
      "\tat /home/lward/Software/cp2k-2022.2/src/qs_energy.F:93\n",
      "#19  0x562427f9b722 in qs_forces\n",
      "\tat /home/lward/Software/cp2k-2022.2/src/qs_force.F:201\n",
      "#20  0x562427f9eb0d in __qs_force_MOD_qs_calc_energy_force\n",
      "\tat /home/lward/Software/cp2k-2022.2/src/qs_force.F:111\n",
      "#21  0x562427768763 in __force_env_methods_MOD_force_env_calc_energy_force\n",
      "\tat /home/lward/Software/cp2k-2022.2/src/force_env_methods.F:271\n",
      "#22  0x56242714b201 in __f77_interface_MOD_calc_energy_force\n",
      "\tat /home/lward/Software/cp2k-2022.2/src/f77_interface.F:1342\n",
      "#23  0x562426d0d8b1 in eval_energy_force_command\n",
      "\tat /home/lward/Software/cp2k-2022.2/src/start/cp2k_shell.F:764\n",
      "#24  0x562426d0d8b1 in __cp2k_shell_MOD_launch_cp2k_shell\n",
      "\tat /home/lward/Software/cp2k-2022.2/src/start/cp2k_shell.F:143\n",
      "#25  0x562426cecb34 in cp2k\n",
      "\tat /home/lward/Software/cp2k-2022.2/src/start/cp2k.F:375\n",
      "#26  0x562426c8dbee in main\n",
      "\tat /home/lward/Software/cp2k-2022.2/src/start/cp2k.F:44\n",
      "Aborted (core dumped)\n",
      " 88%|████████████████████████████████████████████████████████████████████████████████████████████████████████████████████████████████████████████████████████████████████████████████████████████████████████████████████████▏                              | 7/8 [04:40<00:40, 40.06s/it]\n"
     ]
    },
    {
     "ename": "AssertionError",
     "evalue": "",
     "output_type": "error",
     "traceback": [
      "\u001b[0;31m---------------------------------------------------------------------------\u001b[0m",
      "\u001b[0;31mAssertionError\u001b[0m                            Traceback (most recent call last)",
      "Input \u001b[0;32mIn [14]\u001b[0m, in \u001b[0;36m<cell line: 3>\u001b[0;34m()\u001b[0m\n\u001b[1;32m      2\u001b[0m energy \u001b[38;5;241m=\u001b[39m []\n\u001b[1;32m      3\u001b[0m \u001b[38;5;28;01mfor\u001b[39;00m buffer \u001b[38;5;129;01min\u001b[39;00m tqdm(buffers):\n\u001b[0;32m----> 4\u001b[0m     my_energy, my_forces \u001b[38;5;241m=\u001b[39m \u001b[43m_run_cp2k\u001b[49m\u001b[43m(\u001b[49m\u001b[43matoms\u001b[49m\u001b[43m,\u001b[49m\u001b[43m \u001b[49m\u001b[43mchosen_cutoff\u001b[49m\u001b[43m,\u001b[49m\u001b[43m \u001b[49m\u001b[43mbuffer\u001b[49m\u001b[43m)\u001b[49m\n\u001b[1;32m      6\u001b[0m     forces\u001b[38;5;241m.\u001b[39mappend(my_forces)\n\u001b[1;32m      7\u001b[0m     energy\u001b[38;5;241m.\u001b[39mappend(my_energy)\n",
      "Input \u001b[0;32mIn [9]\u001b[0m, in \u001b[0;36m_run_cp2k\u001b[0;34m(atoms, cutoff, buffer)\u001b[0m\n\u001b[1;32m     24\u001b[0m calc\u001b[38;5;241m.\u001b[39mset(cutoff\u001b[38;5;241m=\u001b[39mcutoff \u001b[38;5;241m*\u001b[39m units\u001b[38;5;241m.\u001b[39mRy)\n\u001b[1;32m     25\u001b[0m start_time \u001b[38;5;241m=\u001b[39m perf_counter()\n\u001b[0;32m---> 26\u001b[0m my_forces \u001b[38;5;241m=\u001b[39m \u001b[43mcalc\u001b[49m\u001b[38;5;241;43m.\u001b[39;49m\u001b[43mget_forces\u001b[49m\u001b[43m(\u001b[49m\u001b[43matoms\u001b[49m\u001b[43m)\u001b[49m\n\u001b[1;32m     27\u001b[0m my_energy \u001b[38;5;241m=\u001b[39m calc\u001b[38;5;241m.\u001b[39mget_potential_energy(atoms)\n\u001b[1;32m     28\u001b[0m run_time \u001b[38;5;241m=\u001b[39m perf_counter() \u001b[38;5;241m-\u001b[39m start_time\n",
      "File \u001b[0;32m~/Work/ExaLearn/ase/ase/calculators/abc.py:30\u001b[0m, in \u001b[0;36mGetPropertiesMixin.get_forces\u001b[0;34m(self, atoms)\u001b[0m\n\u001b[1;32m     29\u001b[0m \u001b[38;5;28;01mdef\u001b[39;00m \u001b[38;5;21mget_forces\u001b[39m(\u001b[38;5;28mself\u001b[39m, atoms\u001b[38;5;241m=\u001b[39m\u001b[38;5;28;01mNone\u001b[39;00m):\n\u001b[0;32m---> 30\u001b[0m     \u001b[38;5;28;01mreturn\u001b[39;00m \u001b[38;5;28;43mself\u001b[39;49m\u001b[38;5;241;43m.\u001b[39;49m\u001b[43mget_property\u001b[49m\u001b[43m(\u001b[49m\u001b[38;5;124;43m'\u001b[39;49m\u001b[38;5;124;43mforces\u001b[39;49m\u001b[38;5;124;43m'\u001b[39;49m\u001b[43m,\u001b[49m\u001b[43m \u001b[49m\u001b[43matoms\u001b[49m\u001b[43m)\u001b[49m\n",
      "File \u001b[0;32m~/Work/ExaLearn/ase/ase/calculators/calculator.py:502\u001b[0m, in \u001b[0;36mBaseCalculator.get_property\u001b[0;34m(self, name, atoms, allow_calculation)\u001b[0m\n\u001b[1;32m    499\u001b[0m     \u001b[38;5;28;01mif\u001b[39;00m \u001b[38;5;28mself\u001b[39m\u001b[38;5;241m.\u001b[39muse_cache:\n\u001b[1;32m    500\u001b[0m         \u001b[38;5;28mself\u001b[39m\u001b[38;5;241m.\u001b[39matoms \u001b[38;5;241m=\u001b[39m atoms\u001b[38;5;241m.\u001b[39mcopy()\n\u001b[0;32m--> 502\u001b[0m     \u001b[38;5;28;43mself\u001b[39;49m\u001b[38;5;241;43m.\u001b[39;49m\u001b[43mcalculate\u001b[49m\u001b[43m(\u001b[49m\u001b[43matoms\u001b[49m\u001b[43m,\u001b[49m\u001b[43m \u001b[49m\u001b[43m[\u001b[49m\u001b[43mname\u001b[49m\u001b[43m]\u001b[49m\u001b[43m,\u001b[49m\u001b[43m \u001b[49m\u001b[43msystem_changes\u001b[49m\u001b[43m)\u001b[49m\n\u001b[1;32m    504\u001b[0m \u001b[38;5;28;01mif\u001b[39;00m name \u001b[38;5;129;01mnot\u001b[39;00m \u001b[38;5;129;01min\u001b[39;00m \u001b[38;5;28mself\u001b[39m\u001b[38;5;241m.\u001b[39mresults:\n\u001b[1;32m    505\u001b[0m     \u001b[38;5;66;03m# For some reason the calculator was not able to do what we want,\u001b[39;00m\n\u001b[1;32m    506\u001b[0m     \u001b[38;5;66;03m# and that is OK.\u001b[39;00m\n\u001b[1;32m    507\u001b[0m     \u001b[38;5;28;01mraise\u001b[39;00m PropertyNotImplementedError(\u001b[38;5;124m'\u001b[39m\u001b[38;5;132;01m{}\u001b[39;00m\u001b[38;5;124m not present in this \u001b[39m\u001b[38;5;124m'\u001b[39m\n\u001b[1;32m    508\u001b[0m                                       \u001b[38;5;124m'\u001b[39m\u001b[38;5;124mcalculation\u001b[39m\u001b[38;5;124m'\u001b[39m\u001b[38;5;241m.\u001b[39mformat(name))\n",
      "File \u001b[0;32m~/Work/ExaLearn/ase/ase/calculators/cp2k.py:282\u001b[0m, in \u001b[0;36mCP2K.calculate\u001b[0;34m(self, atoms, properties, system_changes)\u001b[0m\n\u001b[1;32m    279\u001b[0m     \u001b[38;5;28mself\u001b[39m\u001b[38;5;241m.\u001b[39m_shell\u001b[38;5;241m.\u001b[39mexpect(\u001b[38;5;124m'\u001b[39m\u001b[38;5;124m* READY\u001b[39m\u001b[38;5;124m'\u001b[39m)\n\u001b[1;32m    281\u001b[0m \u001b[38;5;28mself\u001b[39m\u001b[38;5;241m.\u001b[39m_shell\u001b[38;5;241m.\u001b[39msend(\u001b[38;5;124m'\u001b[39m\u001b[38;5;124mEVAL_EF \u001b[39m\u001b[38;5;132;01m%d\u001b[39;00m\u001b[38;5;124m'\u001b[39m \u001b[38;5;241m%\u001b[39m \u001b[38;5;28mself\u001b[39m\u001b[38;5;241m.\u001b[39m_force_env_id)\n\u001b[0;32m--> 282\u001b[0m \u001b[38;5;28;43mself\u001b[39;49m\u001b[38;5;241;43m.\u001b[39;49m\u001b[43m_shell\u001b[49m\u001b[38;5;241;43m.\u001b[39;49m\u001b[43mexpect\u001b[49m\u001b[43m(\u001b[49m\u001b[38;5;124;43m'\u001b[39;49m\u001b[38;5;124;43m* READY\u001b[39;49m\u001b[38;5;124;43m'\u001b[39;49m\u001b[43m)\u001b[49m\n\u001b[1;32m    284\u001b[0m \u001b[38;5;28mself\u001b[39m\u001b[38;5;241m.\u001b[39m_shell\u001b[38;5;241m.\u001b[39msend(\u001b[38;5;124m'\u001b[39m\u001b[38;5;124mGET_E \u001b[39m\u001b[38;5;132;01m%d\u001b[39;00m\u001b[38;5;124m'\u001b[39m \u001b[38;5;241m%\u001b[39m \u001b[38;5;28mself\u001b[39m\u001b[38;5;241m.\u001b[39m_force_env_id)\n\u001b[1;32m    285\u001b[0m \u001b[38;5;28mself\u001b[39m\u001b[38;5;241m.\u001b[39mresults[\u001b[38;5;124m'\u001b[39m\u001b[38;5;124menergy\u001b[39m\u001b[38;5;124m'\u001b[39m] \u001b[38;5;241m=\u001b[39m \u001b[38;5;28mfloat\u001b[39m(\u001b[38;5;28mself\u001b[39m\u001b[38;5;241m.\u001b[39m_shell\u001b[38;5;241m.\u001b[39mrecv())\n",
      "File \u001b[0;32m~/Work/ExaLearn/ase/ase/calculators/cp2k.py:539\u001b[0m, in \u001b[0;36mCp2kShell.expect\u001b[0;34m(self, line)\u001b[0m\n\u001b[1;32m    537\u001b[0m \u001b[38;5;124;03m\"\"\"Receive a line and asserts that it matches the expected one\"\"\"\u001b[39;00m\n\u001b[1;32m    538\u001b[0m received \u001b[38;5;241m=\u001b[39m \u001b[38;5;28mself\u001b[39m\u001b[38;5;241m.\u001b[39mrecv()\n\u001b[0;32m--> 539\u001b[0m \u001b[38;5;28;01massert\u001b[39;00m received \u001b[38;5;241m==\u001b[39m line\n",
      "\u001b[0;31mAssertionError\u001b[0m: "
     ]
    }
   ],
   "source": [
    "forces = []\n",
    "energy = []\n",
    "for buffer in tqdm(buffers):\n",
    "    my_energy, my_forces = _run_cp2k(atoms, chosen_cutoff, buffer)\n",
    "        \n",
    "    forces.append(my_forces)\n",
    "    energy.append(my_energy)"
   ]
  },
  {
   "cell_type": "code",
   "execution_count": 15,
   "id": "ab9221ad-1988-4c4e-85c1-73ea01479100",
   "metadata": {},
   "outputs": [
    {
     "data": {
      "text/plain": [
       "[-28701.405911187,\n",
       " -28706.428806609,\n",
       " -28706.889292359,\n",
       " -28707.141201614,\n",
       " -28707.228974345,\n",
       " -28707.314886848,\n",
       " -28707.325350125]"
      ]
     },
     "execution_count": 15,
     "metadata": {},
     "output_type": "execute_result"
    }
   ],
   "source": [
    "energy"
   ]
  },
  {
   "cell_type": "code",
   "execution_count": 16,
   "id": "0a642591-682c-4ead-ab69-ef2c7628b830",
   "metadata": {},
   "outputs": [
    {
     "data": {
      "image/png": "[encoded data removed]",
      "text/plain": [
       "<Figure size 350x250 with 1 Axes>"
      ]
     },
     "metadata": {},
     "output_type": "display_data"
    }
   ],
   "source": [
    "fig, ax = plt.subplots(figsize=(3.5, 2.5))\n",
    "\n",
    "ax.plot(buffers[:len(energy)], np.subtract(energy, energy[-1]) / len(atoms), '--o')\n",
    "\n",
    "ax.set_xlim(ax.get_xlim())\n",
    "ax.plot(ax.get_xlim(), [1e-3]*2, 'k--', lw=1)\n",
    "ax.plot(ax.get_xlim(), [-1e-3]*2, 'k--', lw=1)\n",
    "\n",
    "ax.set_yscale('symlog', linthresh=1e-3)\n",
    "\n",
    "ax.set_xlabel('Buffer ($\\\\AA$)')\n",
    "ax.set_ylabel('Energy Diff. (eV/atom)')\n",
    "fig.tight_layout()\n",
    "fig.savefig('figures/buffer-convergence-energy.png', dpi=320)"
   ]
  },
  {
   "cell_type": "markdown",
   "id": "3be9a555-b9fa-4ff7-995a-2fcfb1d733dc",
   "metadata": {},
   "source": [
    "A buffer of 5 is where things stop mattering"
   ]
  },
  {
   "cell_type": "markdown",
   "id": "40e7e650-d083-4e0c-bb02-1ad4d7a7ad01",
   "metadata": {},
   "source": [
    "Results collected over runs with different molecules\n",
    "\n",
    "Cutoffs (eV)\n",
    "\n",
    "| MolID | Charge | B3LYP//DVZP | B3LYP//6-311++g(2d,2p) | B3LYP//def-SZV | B3LYP//def-TZVPD |\n",
    "|-------|--------|-------------|-|-|-|\n",
    "| 0 | -1 | 200 | 200 | 300 | 300\n",
    "| 0 | 0 | 200 | 200| 200 | 200 |\n",
    "| 0 | 1 | 300 | 200 | 300 | 200\n",
    "| 1 | -1 | 300\n",
    "| 1 | 0 | 300 | | 300 | 300\n",
    "| 1 | 1 | 300 | | \n",
    "| 2 | 0 | 300 | | 300 | 300\n",
    "| 3 | 0 | 300 | | 300 | 300\n",
    "| 4 | 0 | | | | 300\n",
    "| 5 | -1 | | | | 300\n",
    "| 5 | 0 | | | | 300\n",
    "| 5 | 1 | | | | 300\n",
    "| 6 | 0 | | | | 300\n",
    "| 9 | 0 | | | 300 | 300\n",
    "| *Maximum* | | 300 | 200 | 300 | 300\n",
    "\n",
    "Buffer Size, Angstrom\n",
    "\n",
    "| MolID | Charge | B3LYP//DVZP | B3LYP//6-311++g(2d,2p) | B3LYP//def-SZV | B3LYP//def-TZVPD |\n",
    "|-------|--------|-------------|-|-|-|\n",
    "|   0   |   -1  | 4| 5 | 4 | 4\n",
    "|   0   |   0  | 4| 5 | 4 | 4\n",
    "|   0   |   1 | 4| 4 | 4 | 4\n",
    "|   1   | -1 | 5 |\n",
    "|   1   | 0 | 5 | | 5 | 5\n",
    "|   1   | 1 | 5 |\n",
    "|   2   | 0 | 5 | | 5 | 5\n",
    "|   3   | 0 | 5 | | 5 | 5\n",
    "| 4 | 0 | ||| 5\n",
    "| 5 | -1 | ||| 6\n",
    "| 5 | 0 | ||| 6\n",
    "| 5 | 1 | ||| 6\n",
    "| 6 | 0 | ||| 6\n",
    "| 9 | 0 | || 6 | 6\n",
    "| 10 | 0 | || 8 |\n",
    "| 11 | 0 | || >9 |\n",
    "| *Maximum* | | 5 | || 6\n",
    "\n",
    "? - Outlier. E.g., there was never consistent forces in the range tested"
   ]
  },
  {
   "cell_type": "code",
   "execution_count": null,
   "id": "642198c0-fd9b-4830-89ad-119f7095464a",
   "metadata": {},
   "outputs": [],
   "source": []
  }
 ],
 "metadata": {
  "kernelspec": {
   "display_name": "Python 3 (ipykernel)",
   "language": "python",
   "name": "python3"
  },
  "language_info": {
   "codemirror_mode": {
    "name": "ipython",
    "version": 3
   },
   "file_extension": ".py",
   "mimetype": "text/x-python",
   "name": "python",
   "nbconvert_exporter": "python",
   "pygments_lexer": "ipython3",
   "version": "3.10.6"
  }
 },
 "nbformat": 4,
 "nbformat_minor": 5
}
