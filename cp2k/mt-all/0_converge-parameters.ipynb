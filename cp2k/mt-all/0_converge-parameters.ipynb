{
 "cells": [
  {
   "cell_type": "markdown",
   "id": "1bf74478-4808-41b9-a46d-6aaeef8bbeb3",
   "metadata": {},
   "source": [
    "# Converge Parameters\n",
    "We want to find the minimum cutoff energy and buffer around the molecule."
   ]
  },
  {
   "cell_type": "code",
   "execution_count": 1,
   "id": "ff4e33a7-2ba4-4254-856c-568fa34d861c",
   "metadata": {},
   "outputs": [],
   "source": [
    "%matplotlib inline\n",
    "from matplotlib import pyplot as plt\n",
    "from ase.calculators.cp2k import CP2K\n",
    "from time import perf_counter\n",
    "from pathlib import Path\n",
    "from shutil import rmtree\n",
    "from io import StringIO\n",
    "from ase.io import read\n",
    "from ase import units\n",
    "from tqdm import tqdm\n",
    "import pandas as pd\n",
    "import numpy as np\n",
    "import json\n",
    "import os"
   ]
  },
  {
   "cell_type": "markdown",
   "id": "ffe816a4-ffe8-4912-b08a-32120c44abc7",
   "metadata": {},
   "source": [
    "Configuration"
   ]
  },
  {
   "cell_type": "code",
   "execution_count": 2,
   "id": "cbf57d4b-d4a3-405f-bf41-ec3cebc35d79",
   "metadata": {
    "tags": [
     "parameters"
    ]
   },
   "outputs": [],
   "source": [
    "mol_id: int = 6\n",
    "xc: str = 'HYB_GGA_XC_WB97X_V'\n",
    "basis_set: str = 'def2-TZVPD'\n",
    "basis_set_file: str = '../basis-sets/DEF2_BASIS_SETS'\n",
    "charge: int = 1\n",
    "chosen_cutoff: float = 300  # The cutoff used for buffer size tests\n",
    "default_buffer: float = 6.  # The buffer size used for the cutoff tests\n",
    "results_file = Path('convergence-results.json')"
   ]
  },
  {
   "cell_type": "markdown",
   "id": "50b7c167-ed24-4bdd-b847-f6c76b190595",
   "metadata": {},
   "source": [
    "Get the HFX fraction"
   ]
  },
  {
   "cell_type": "code",
   "execution_count": 3,
   "id": "749148e2-73e6-4718-b545-d3fe9951a38e",
   "metadata": {},
   "outputs": [],
   "source": [
    "b3lyp_other = \"\"\"&HF\n",
    "    &SCREENING\n",
    "        EPS_SCHWARZ 1.0E-10 \n",
    "    &END\n",
    "    &MEMORY\n",
    "        MAX_MEMORY  1024\n",
    "    &END\n",
    "    FRACTION 0.2\n",
    "&END HF\n",
    "\"\"\""
   ]
  },
  {
   "cell_type": "code",
   "execution_count": 4,
   "id": "d1363905-6688-4049-a4cd-f782c0789ac3",
   "metadata": {},
   "outputs": [],
   "source": [
    "wb97_v_other = \"\"\" &HF\n",
    "    FRACTION 1.000\n",
    "    &INTERACTION_POTENTIAL\n",
    "        OMEGA 0.30\n",
    "        POTENTIAL_TYPE MIX_CL\n",
    "        SCALE_COULOMB 0.167\n",
    "        SCALE_LONGRANGE 0.833\n",
    "    &END INTERACTION_POTENTIAL\n",
    "    &MEMORY\n",
    "        MAX_MEMORY 10\n",
    "    &END MEMORY\n",
    "    &SCREENING\n",
    "        EPS_SCHWARZ 1.0E-10\n",
    "    &END SCREENING\n",
    "&END HF\n",
    "&VDW_POTENTIAL\n",
    "    DISPERSION_FUNCTIONAL NON_LOCAL\n",
    "        &NON_LOCAL\n",
    "        CUTOFF 40\n",
    "        KERNEL_FILE_NAME rVV10_kernel_table.dat\n",
    "        PARAMETERS 6.3 0.0093\n",
    "        SCALE 1.0\n",
    "        TYPE RVV10\n",
    "        VERBOSE_OUTPUT\n",
    "    &END NON_LOCAL\n",
    "&END VDW_POTENTIAL\n",
    "\"\"\""
   ]
  },
  {
   "cell_type": "code",
   "execution_count": 5,
   "id": "9fd9b9df-1221-42be-abb6-dc85ea8d46a5",
   "metadata": {},
   "outputs": [],
   "source": [
    "other_xc_parts = {\n",
    "    'HYB_GGA_XC_B3LYP': b3lyp_other,\n",
    "    'HYB_GGA_XC_WB97X_V': wb97_v_other,\n",
    "}[xc]"
   ]
  },
  {
   "cell_type": "markdown",
   "id": "ad8150b7-fdb5-414f-9ec4-3b47c05a95be",
   "metadata": {},
   "source": [
    "## Get Example Molecules\n",
    "We'll test on something with a small molecule."
   ]
  },
  {
   "cell_type": "code",
   "execution_count": 6,
   "id": "dda8b206-2d7f-4671-8c0e-7db7830652af",
   "metadata": {},
   "outputs": [
    {
     "name": "stdout",
     "output_type": "stream",
     "text": [
      "Loaded a total of 12 molecules\n"
     ]
    }
   ],
   "source": [
    "molecules = pd.read_csv('../../data/example_molecules.csv')\n",
    "print(f'Loaded a total of {len(molecules)} molecules')"
   ]
  },
  {
   "cell_type": "code",
   "execution_count": 7,
   "id": "96c1b7bf-11e0-4a29-b029-791d4e5378db",
   "metadata": {},
   "outputs": [
    {
     "data": {
      "text/plain": [
       "Atoms(symbols='C3SC6H12', pbc=False)"
      ]
     },
     "execution_count": 7,
     "metadata": {},
     "output_type": "execute_result"
    }
   ],
   "source": [
    "row = molecules.iloc[mol_id]\n",
    "atoms = read(StringIO(row['xyz_neutral']), format='xyz').copy()\n",
    "atoms"
   ]
  },
  {
   "cell_type": "markdown",
   "id": "6a6ad781-8d41-4c11-acc0-76a3343a70a0",
   "metadata": {},
   "source": [
    "CP2K requires us to define a cell even for non-periodic systems"
   ]
  },
  {
   "cell_type": "code",
   "execution_count": 8,
   "id": "059663a6-2447-43de-a0bb-b1e8e15c6742",
   "metadata": {},
   "outputs": [
    {
     "data": {
      "text/plain": [
       "array([8.14160027, 4.65656753, 4.00225991])"
      ]
     },
     "execution_count": 8,
     "metadata": {},
     "output_type": "execute_result"
    }
   ],
   "source": [
    "molecule_length = atoms.positions.max(axis=0) - atoms.positions.min(axis=0)\n",
    "molecule_length"
   ]
  },
  {
   "cell_type": "code",
   "execution_count": 9,
   "id": "aaae25c2-55f0-44aa-acd3-b85c4fd671ad",
   "metadata": {},
   "outputs": [],
   "source": [
    "def buffer_cell(atoms, buffer_size: float = 6.): \n",
    "    \"\"\"How to buffer the cell such that it has a vacuum layer around the side\n",
    "    \n",
    "    Args:\n",
    "        atoms: Atoms to be centered\n",
    "        positions: Size of the buffer to place around the atoms\n",
    "    \"\"\"\n",
    "\n",
    "    atoms.positions -= atoms.positions.min(axis=0)\n",
    "    atoms.cell = atoms.positions.max(axis=0) + buffer_size * 2\n",
    "    atoms.positions += atoms.cell.max(axis=0) / 2 - atoms.positions.mean(axis=0)\n",
    "buffer_cell(atoms, default_buffer)"
   ]
  },
  {
   "cell_type": "markdown",
   "id": "754a2771-57c4-4776-af8e-878112b14f73",
   "metadata": {},
   "source": [
    "## Evalute the effect of convergence of buffer size and cutoff\n",
    "These should be all we need to converge"
   ]
  },
  {
   "cell_type": "code",
   "execution_count": 10,
   "id": "717ea28c-c057-47be-aebc-d2cc2c0991b4",
   "metadata": {},
   "outputs": [
    {
     "data": {
      "text/plain": [
       "0"
      ]
     },
     "execution_count": 10,
     "metadata": {},
     "output_type": "execute_result"
    }
   ],
   "source": [
    "Path('conv').joinpath('cp2k.out').write_text('')"
   ]
  },
  {
   "cell_type": "code",
   "execution_count": 11,
   "id": "2fea7a26-6bf9-43eb-a225-a9f89723109b",
   "metadata": {},
   "outputs": [],
   "source": [
    "cp2k_opts = dict(\n",
    "    xc=None,\n",
    "    inp=f\"\"\"\n",
    "&FORCE_EVAL\n",
    "&DFT\n",
    "    &XC\n",
    "        &XC_FUNCTIONAL \n",
    "            &{xc}\n",
    "            &END {xc}\n",
    "        &END XC_FUNCTIONAL\n",
    "        {other_xc_parts}\n",
    "    &END XC\n",
    "    &POISSON\n",
    "        PERIODIC NONE\n",
    "        PSOLVER MT\n",
    "    &END POISSON\n",
    "    &MGRID\n",
    "        NGRIDS 1\n",
    "    &END MGRID\n",
    "    &SCF\n",
    "        IGNORE_CONVERGENCE_FAILURE TRUE\n",
    "        &OT T\n",
    "            PRECONDITIONER FULL_ALL\n",
    "        &END OT\n",
    "    &END SCF\n",
    "    &QS\n",
    "        EXTRAPOLATION USE_GUESS\n",
    "        METHOD GAPW\n",
    "    &END QS\n",
    "&END DFT\n",
    "&END FORCE_EVAL\"\"\",\n",
    "    basis_set_file=basis_set_file,\n",
    "    basis_set=basis_set,\n",
    "    pseudo_potential='ALL',\n",
    "    potential_file='ALL_POTENTIALS',\n",
    "    poisson_solver=None,\n",
    ")  # Use BLYP as we have PPs for it\n",
    "calc = CP2K(charge=charge, uks=charge!=0, max_scf=1,\n",
    "            directory='conv',\n",
    "            command='/home/lward/Software/cp2k-2024.1/exe/local_cuda/cp2k_shell.ssmp',\n",
    "            stress_tensor=False,\n",
    "            **cp2k_opts)"
   ]
  },
  {
   "cell_type": "code",
   "execution_count": 12,
   "id": "0faf9bda-d4ad-484c-9615-05ef6e542774",
   "metadata": {},
   "outputs": [
    {
     "name": "stdout",
     "output_type": "stream",
     "text": [
      "Testing 5 energies\n"
     ]
    }
   ],
   "source": [
    "cutoffs = np.arange(100., 500.1, 100.)\n",
    "print(f'Testing {len(cutoffs)} energies')"
   ]
  },
  {
   "cell_type": "markdown",
   "id": "96f21145-a50e-4087-8447-0d7b499ae991",
   "metadata": {},
   "source": [
    "Test many cutoff energies"
   ]
  },
  {
   "cell_type": "code",
   "execution_count": 13,
   "id": "38a25a67-7e10-4b1e-911b-10caf4619a89",
   "metadata": {},
   "outputs": [],
   "source": [
    "def _run_cp2k(atoms, cutoff, buffer):\n",
    "    \"\"\"Run CP2K if settings are not done yet\n",
    "    \n",
    "    Args:\n",
    "        atoms: Molecule to run\n",
    "        cutoff: Cutoff energy (Ry)\n",
    "        buffer: Buffer length (Ang)\n",
    "    Returns:\n",
    "        - Energy\n",
    "        - Forces\n",
    "    \"\"\"\n",
    "    \n",
    "    # Load the most recent copy of the results table\n",
    "    previous = {}  # (file_ind, basis, cutoff) -> {'energy': ..., 'forces': ...}\n",
    "    if results_file.is_file():\n",
    "        with results_file.open() as fp:\n",
    "            for l in fp:\n",
    "                record = json.loads(l)\n",
    "                previous[(record.pop('mol_ind'), record.pop('charge'), record.pop('xc'), record.pop('basis'), record.pop('cutoff'), record.pop('buffer'))] = record\n",
    "    buffer_cell(atoms, buffer)\n",
    "\n",
    "    if (result := previous.get((mol_id, charge, xc, basis_set, cutoff, buffer), None)) is None:\n",
    "        # Run if it isn't done yet\n",
    "        calc.set(cutoff=cutoff * units.Ry)\n",
    "        start_time = perf_counter()\n",
    "        my_forces = calc.get_forces(atoms)\n",
    "        my_energy = calc.get_potential_energy(atoms)\n",
    "        run_time = perf_counter() - start_time\n",
    "\n",
    "        # Write to disk\n",
    "        with results_file.open('a') as fp:\n",
    "            print(json.dumps({\n",
    "                'mol_ind': mol_id,\n",
    "                'charge': charge,\n",
    "                'xc': xc,\n",
    "                'basis': basis_set,\n",
    "                'cutoff': cutoff,\n",
    "                'buffer': buffer,\n",
    "                'energy': my_energy,\n",
    "                'forces': my_forces.tolist(),\n",
    "                'num_atoms': len(atoms),\n",
    "                'runtime': run_time,\n",
    "            }), file=fp)\n",
    "    else:\n",
    "        my_forces = np.array(result['forces'])\n",
    "        my_energy = result['energy']\n",
    "    return my_energy, my_forces"
   ]
  },
  {
   "cell_type": "code",
   "execution_count": 14,
   "id": "6765ba4f-927a-42f4-a9a6-fb45f610e130",
   "metadata": {},
   "outputs": [
    {
     "name": "stderr",
     "output_type": "stream",
     "text": [
      "100%|█████████████████████████████████████████████████████████████████████████████████████████████████████████████████████████████████████████████████████████████████████████████████████████████████████████| 5/5 [09:29<00:00, 113.98s/it]\n"
     ]
    }
   ],
   "source": [
    "forces = []\n",
    "energy = []\n",
    "for cutoff in tqdm(cutoffs):\n",
    "    my_energy, my_forces = _run_cp2k(atoms, cutoff, default_buffer)\n",
    "        \n",
    "    forces.append(my_forces)\n",
    "    energy.append(my_energy)"
   ]
  },
  {
   "cell_type": "code",
   "execution_count": 15,
   "id": "92ac9f12-d3e4-4615-9fd1-f2c6ddf8f2a7",
   "metadata": {},
   "outputs": [
    {
     "data": {
      "image/png": "[encoded data removed]",
      "text/plain": [
       "<Figure size 350x250 with 1 Axes>"
      ]
     },
     "metadata": {},
     "output_type": "display_data"
    }
   ],
   "source": [
    "fig, ax = plt.subplots(figsize=(3.5, 2.5))\n",
    "\n",
    "rmse = [np.sqrt(np.power(f - forces[-1], 2).mean()) for f in forces]\n",
    "ax.semilogy(cutoffs[:-1], rmse[:-1], '--o')\n",
    "\n",
    "ax.set_xlim(ax.get_xlim())\n",
    "ax.plot(ax.get_xlim(), [1e-2]*2, 'k--', lw=1)\n",
    "\n",
    "ax.set_xlabel('Cutoff (Ry)')\n",
    "ax.set_ylabel('RMSE (eV/$\\\\AA$)')\n",
    "fig.tight_layout()\n",
    "fig.savefig('figures/cutoff-convergence-forces.png', dpi=320)"
   ]
  },
  {
   "cell_type": "code",
   "execution_count": 16,
   "id": "f5969512-7464-47b3-9d6a-0033423302af",
   "metadata": {},
   "outputs": [
    {
     "data": {
      "image/png": "[encoded data removed]",
      "text/plain": [
       "<Figure size 350x250 with 1 Axes>"
      ]
     },
     "metadata": {},
     "output_type": "display_data"
    }
   ],
   "source": [
    "fig, ax = plt.subplots(figsize=(3.5, 2.5))\n",
    "\n",
    "ax.plot(cutoffs, np.subtract(energy, energy[-1]) / len(atoms), '--o')\n",
    "\n",
    "ax.set_xlim(ax.get_xlim())\n",
    "ax.plot(ax.get_xlim(), [1e-3]*2, 'k--', lw=1)\n",
    "ax.plot(ax.get_xlim(), [-1e-3]*2, 'k--', lw=1)\n",
    "\n",
    "ax.set_yscale('symlog', linthresh=1e-6)\n",
    "\n",
    "ax.set_xlabel('Cutoff (eV)')\n",
    "ax.set_ylabel('Energy Diff. (eV/atom)')\n",
    "fig.tight_layout()\n",
    "fig.savefig('figures/cutoff-convergence-energy.png', dpi=320)"
   ]
  },
  {
   "cell_type": "markdown",
   "id": "00389229-ba55-4db0-ab73-f2e318649963",
   "metadata": {},
   "source": [
    "Now hold the cutoff consnt and vary the buffer size"
   ]
  },
  {
   "cell_type": "code",
   "execution_count": 17,
   "id": "fef0067e-cab7-4a68-a6a4-854353228a4c",
   "metadata": {},
   "outputs": [],
   "source": [
    "buffers = np.arange(2., 8.1, 1.)\n",
    "calc.set(cutoff=chosen_cutoff * units.Ry)"
   ]
  },
  {
   "cell_type": "code",
   "execution_count": 18,
   "id": "f36adc58-cfaf-422c-b49a-8fec7b29e015",
   "metadata": {},
   "outputs": [
    {
     "name": "stderr",
     "output_type": "stream",
     "text": [
      "100%|██████████████████████████████████████████████████████████████████████████████████████████████████████████████████████████████████████████████████████████████████████████████████████████████████████████| 7/7 [10:36<00:00, 90.92s/it]\n"
     ]
    }
   ],
   "source": [
    "forces = []\n",
    "energy = []\n",
    "for buffer in tqdm(buffers):\n",
    "    my_energy, my_forces = _run_cp2k(atoms, chosen_cutoff, buffer)\n",
    "        \n",
    "    forces.append(my_forces)\n",
    "    energy.append(my_energy)"
   ]
  },
  {
   "cell_type": "code",
   "execution_count": 19,
   "id": "0a642591-682c-4ead-ab69-ef2c7628b830",
   "metadata": {},
   "outputs": [
    {
     "data": {
      "image/png": "[encoded data removed]",
      "text/plain": [
       "<Figure size 350x250 with 1 Axes>"
      ]
     },
     "metadata": {},
     "output_type": "display_data"
    }
   ],
   "source": [
    "fig, ax = plt.subplots(figsize=(3.5, 2.5))\n",
    "\n",
    "ax.plot(buffers[:len(energy)], np.subtract(energy, energy[-1]) / len(atoms), '--o')\n",
    "\n",
    "ax.set_xlim(ax.get_xlim())\n",
    "ax.plot(ax.get_xlim(), [1e-3]*2, 'k--', lw=1)\n",
    "ax.plot(ax.get_xlim(), [-1e-3]*2, 'k--', lw=1)\n",
    "\n",
    "ax.set_yscale('symlog', linthresh=1e-3)\n",
    "\n",
    "ax.set_xlabel('Buffer ($\\\\AA$)')\n",
    "ax.set_ylabel('Energy Diff. (eV/atom)')\n",
    "fig.tight_layout()\n",
    "fig.savefig('figures/buffer-convergence-energy.png', dpi=320)"
   ]
  },
  {
   "cell_type": "markdown",
   "id": "3be9a555-b9fa-4ff7-995a-2fcfb1d733dc",
   "metadata": {},
   "source": [
    "A buffer of 5 is where things stop mattering"
   ]
  },
  {
   "cell_type": "markdown",
   "id": "40e7e650-d083-4e0c-bb02-1ad4d7a7ad01",
   "metadata": {},
   "source": [
    "Results collected over runs with different molecules\n",
    "\n",
    "Cutoffs (eV)\n",
    "\n",
    "| MolID | Charge | B3LYP//def-SZV | B3LYP//def-TZVPD | wB97x-V//def-TZVPD |\n",
    "|-------|--------|----------------|------------------|-------------------|\n",
    "| 1 | -1 | 300 | 300 | |\n",
    "| 1 | 0 | | 300 |  |\n",
    "| 1 | 1 | | 300 | 200 |\n",
    "| 6 | -1 | 300 | 300 | |\n",
    "| 6 | 0 |  | 300 | |\n",
    "| 6 | 1 |  | 300 | 300 |\n",
    "| *Maximum* |    | |  | |\n",
    "\n",
    "Buffer Size, Angstrom\n",
    "\n",
    "| MolID | Charge | B3LYP//def-SZV | B3LYP//def-TZVPD | wB97x-V//def-TZVPD |\n",
    "|-------|--------|----------------|------------------|-------------------|\n",
    "| 1 |-1 | 5 | 5 | |\n",
    "| 1 | 0 | | 5 | |\n",
    "| 1 | 1 | | 5 | 3 |\n",
    "| 6 |-1 | 6 | 6 | 6|  \n",
    "| 6 | 0 |  | 6 | |  \n",
    "| *Maximum* |\n",
    "\n",
    "? - Outlier. E.g., there was never consistent forces in the range tested"
   ]
  },
  {
   "cell_type": "code",
   "execution_count": null,
   "id": "642198c0-fd9b-4830-89ad-119f7095464a",
   "metadata": {},
   "outputs": [],
   "source": []
  }
 ],
 "metadata": {
  "kernelspec": {
   "display_name": "Python 3 (ipykernel)",
   "language": "python",
   "name": "python3"
  },
  "language_info": {
   "codemirror_mode": {
    "name": "ipython",
    "version": 3
   },
   "file_extension": ".py",
   "mimetype": "text/x-python",
   "name": "python",
   "nbconvert_exporter": "python",
   "pygments_lexer": "ipython3",
   "version": "3.10.6"
  }
 },
 "nbformat": 4,
 "nbformat_minor": 5
}
