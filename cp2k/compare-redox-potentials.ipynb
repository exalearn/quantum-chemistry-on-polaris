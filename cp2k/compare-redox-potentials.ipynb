{
 "cells": [
  {
   "cell_type": "markdown",
   "id": "79add5f5-6537-4314-91e6-e5ed703e2cc5",
   "metadata": {},
   "source": [
    "## Compile the redox potentials\n",
    "We want to see what the energy differences for different methods are and compare the runtimes"
   ]
  },
  {
   "cell_type": "code",
   "execution_count": 1,
   "id": "4e5bed46-4376-40ef-bb59-b8898e4e9a27",
   "metadata": {
    "tags": []
   },
   "outputs": [],
   "source": [
    "%matplotlib inline\n",
    "from matplotlib import pyplot as plt\n",
    "from scipy.stats import linregress, siegelslopes\n",
    "from ase.db import connect\n",
    "import pandas as pd\n",
    "import numpy as np"
   ]
  },
  {
   "cell_type": "markdown",
   "id": "b058d8fd-7af1-413d-9945-bb1f7678c7c6",
   "metadata": {},
   "source": [
    "## Load the Database into Pandas\n",
    "Get the energies for each system for each CP2K setting"
   ]
  },
  {
   "cell_type": "code",
   "execution_count": 2,
   "id": "6c6afe24-7d4f-441f-915e-57f41191dc5e",
   "metadata": {},
   "outputs": [],
   "source": [
    "example_molecules = pd.read_csv('../data/example_molecules.csv')"
   ]
  },
  {
   "cell_type": "code",
   "execution_count": 3,
   "id": "43f70e71-5d84-475b-a994-3aa80408d6ea",
   "metadata": {},
   "outputs": [],
   "source": [
    "mol_props = example_molecules.set_index('inchi_key').to_dict('index')"
   ]
  },
  {
   "cell_type": "code",
   "execution_count": 4,
   "id": "3bbb5cc1-8e8d-41d8-bd3c-78304e987eed",
   "metadata": {},
   "outputs": [
    {
     "name": "stdout",
     "output_type": "stream",
     "text": [
      "Loaded 43 computations\n"
     ]
    }
   ],
   "source": [
    "data = []\n",
    "for psolver in ['mt', 'wavelet', 'mt-all']:\n",
    "    with connect(f'{psolver}/data.db') as db:\n",
    "        for row in db.select(''):\n",
    "            record = row.key_value_pairs.copy()\n",
    "            record['basis_set'] = record['basis_set'].upper()\n",
    "            record['n_electrons'] = mol_props[record['inchi_key']]['n_electrons']\n",
    "            record['energy'] = row.energy\n",
    "            record['solver'] = psolver\n",
    "            record['gpu'] = row.key_value_pairs.get('gpu', True)\n",
    "            data.append(record)\n",
    "data = pd.DataFrame(data)\n",
    "print(f'Loaded {len(data)} computations')"
   ]
  },
  {
   "cell_type": "markdown",
   "id": "045724e0-1d44-4afe-a128-4b24b0695340",
   "metadata": {},
   "source": [
    "## Compute the redox potentials\n",
    "Get the energy differences between different stats"
   ]
  },
  {
   "cell_type": "code",
   "execution_count": 5,
   "id": "44b240cf-841f-4da2-a35f-5306b678db05",
   "metadata": {},
   "outputs": [],
   "source": [
    "method_keys = ['solver', 'basis_set', 'xc', 'cutoff', 'buffer', 'gpu']\n",
    "records = []\n",
    "for lid, (level, subset) in enumerate(data.groupby(method_keys)):\n",
    "    method_desc = dict(zip(method_keys, level))\n",
    "    \n",
    "    # Match states\n",
    "    neutrals = subset.query('state==\"neutral\"')\n",
    "    for state in ['oxidized', 'reduced']:\n",
    "        redoxed = subset.query(f'state==\"{state}\"')\n",
    "        merged = redoxed.merge(neutrals, on=('inchi_key', 'xc', 'cutoff'))\n",
    "        \n",
    "        # Create a record for each\n",
    "        for _, row in merged.iterrows():\n",
    "            record = {}\n",
    "            record['inchi_key'] = row['inchi_key']\n",
    "            record['state'] = state\n",
    "            record['potential'] = row['energy_x'] - row['energy_y']\n",
    "            record['runtime'] = row['runtime_x'] + row['runtime_y']\n",
    "            record['level_id'] = lid\n",
    "            record['n_electrons'] = row['n_electrons_x']\n",
    "            record.update(method_desc)\n",
    "            records.append(record)\n",
    "records = pd.DataFrame(records)"
   ]
  },
  {
   "cell_type": "markdown",
   "id": "46f462e7-067a-4deb-bfc3-e892c8e079fb",
   "metadata": {},
   "source": [
    "## Compare Integrators\n",
    "Determine whether wavelets or MT are a better choice"
   ]
  },
  {
   "cell_type": "code",
   "execution_count": 11,
   "id": "76eed39a-1c7c-493f-a145-bc2ea2a4eb38",
   "metadata": {},
   "outputs": [],
   "source": [
    "mt_params = {'solver': 'mt', 'xc': 'BLYP', 'cutoff': 700, 'basis_set': 'DZVP-MOLOPT-GTH', 'gpu': True}\n",
    "wavelet_params = {'solver': 'wavelet', 'xc': 'BLYP', 'cutoff': 700, 'basis_set': 'DZVP-MOLOPT-GTH', 'gpu': True}"
   ]
  },
  {
   "cell_type": "code",
   "execution_count": 12,
   "id": "b182b246-3362-4525-9de3-5770d728cc96",
   "metadata": {},
   "outputs": [
    {
     "name": "stdout",
     "output_type": "stream",
     "text": [
      "Reduced to 5 results for MT\n"
     ]
    },
    {
     "data": {
      "text/html": [
       "<div>\n",
       "<style scoped>\n",
       "    .dataframe tbody tr th:only-of-type {\n",
       "        vertical-align: middle;\n",
       "    }\n",
       "\n",
       "    .dataframe tbody tr th {\n",
       "        vertical-align: top;\n",
       "    }\n",
       "\n",
       "    .dataframe thead th {\n",
       "        text-align: right;\n",
       "    }\n",
       "</style>\n",
       "<table border=\"1\" class=\"dataframe\">\n",
       "  <thead>\n",
       "    <tr style=\"text-align: right;\">\n",
       "      <th></th>\n",
       "      <th>inchi_key</th>\n",
       "      <th>state</th>\n",
       "      <th>potential</th>\n",
       "      <th>runtime</th>\n",
       "      <th>level_id</th>\n",
       "      <th>n_electrons</th>\n",
       "      <th>solver</th>\n",
       "      <th>basis_set</th>\n",
       "      <th>xc</th>\n",
       "      <th>cutoff</th>\n",
       "      <th>buffer</th>\n",
       "      <th>gpu</th>\n",
       "    </tr>\n",
       "  </thead>\n",
       "  <tbody>\n",
       "    <tr>\n",
       "      <th>0</th>\n",
       "      <td>VNWKTOKETHGBQD-UHFFFAOYSA-N</td>\n",
       "      <td>oxidized</td>\n",
       "      <td>12.328979</td>\n",
       "      <td>719.730224</td>\n",
       "      <td>0</td>\n",
       "      <td>6</td>\n",
       "      <td>mt</td>\n",
       "      <td>DZVP-MOLOPT-GTH</td>\n",
       "      <td>BLYP</td>\n",
       "      <td>700</td>\n",
       "      <td>7.5</td>\n",
       "      <td>True</td>\n",
       "    </tr>\n",
       "    <tr>\n",
       "      <th>1</th>\n",
       "      <td>IJDNQMDRQITEOD-UHFFFAOYSA-N</td>\n",
       "      <td>oxidized</td>\n",
       "      <td>9.645187</td>\n",
       "      <td>3421.286608</td>\n",
       "      <td>0</td>\n",
       "      <td>24</td>\n",
       "      <td>mt</td>\n",
       "      <td>DZVP-MOLOPT-GTH</td>\n",
       "      <td>BLYP</td>\n",
       "      <td>700</td>\n",
       "      <td>7.5</td>\n",
       "      <td>True</td>\n",
       "    </tr>\n",
       "  </tbody>\n",
       "</table>\n",
       "</div>"
      ],
      "text/plain": [
       "                     inchi_key     state  potential      runtime  level_id  \\\n",
       "0  VNWKTOKETHGBQD-UHFFFAOYSA-N  oxidized  12.328979   719.730224         0   \n",
       "1  IJDNQMDRQITEOD-UHFFFAOYSA-N  oxidized   9.645187  3421.286608         0   \n",
       "\n",
       "   n_electrons solver        basis_set    xc  cutoff  buffer   gpu  \n",
       "0            6     mt  DZVP-MOLOPT-GTH  BLYP     700     7.5  True  \n",
       "1           24     mt  DZVP-MOLOPT-GTH  BLYP     700     7.5  True  "
      ]
     },
     "execution_count": 12,
     "metadata": {},
     "output_type": "execute_result"
    }
   ],
   "source": [
    "mt_records = records.copy()\n",
    "for k, v in mt_params.items():\n",
    "    mt_records = mt_records[mt_records[k] == v]\n",
    "assert len(mt_records.level_id.value_counts()) == 1\n",
    "print(f'Reduced to {len(mt_records)} results for MT')\n",
    "mt_records.head(2)"
   ]
  },
  {
   "cell_type": "code",
   "execution_count": 13,
   "id": "3c1b3edd-5345-4dc9-bfe6-2317ed1eca6d",
   "metadata": {},
   "outputs": [
    {
     "name": "stdout",
     "output_type": "stream",
     "text": [
      "Reduced to 12 results for wavelet\n"
     ]
    },
    {
     "data": {
      "text/html": [
       "<div>\n",
       "<style scoped>\n",
       "    .dataframe tbody tr th:only-of-type {\n",
       "        vertical-align: middle;\n",
       "    }\n",
       "\n",
       "    .dataframe tbody tr th {\n",
       "        vertical-align: top;\n",
       "    }\n",
       "\n",
       "    .dataframe thead th {\n",
       "        text-align: right;\n",
       "    }\n",
       "</style>\n",
       "<table border=\"1\" class=\"dataframe\">\n",
       "  <thead>\n",
       "    <tr style=\"text-align: right;\">\n",
       "      <th></th>\n",
       "      <th>inchi_key</th>\n",
       "      <th>state</th>\n",
       "      <th>potential</th>\n",
       "      <th>runtime</th>\n",
       "      <th>level_id</th>\n",
       "      <th>n_electrons</th>\n",
       "      <th>solver</th>\n",
       "      <th>basis_set</th>\n",
       "      <th>xc</th>\n",
       "      <th>cutoff</th>\n",
       "      <th>buffer</th>\n",
       "      <th>gpu</th>\n",
       "    </tr>\n",
       "  </thead>\n",
       "  <tbody>\n",
       "    <tr>\n",
       "      <th>15</th>\n",
       "      <td>VNWKTOKETHGBQD-UHFFFAOYSA-N</td>\n",
       "      <td>oxidized</td>\n",
       "      <td>12.329008</td>\n",
       "      <td>353.397923</td>\n",
       "      <td>4</td>\n",
       "      <td>6</td>\n",
       "      <td>wavelet</td>\n",
       "      <td>DZVP-MOLOPT-GTH</td>\n",
       "      <td>BLYP</td>\n",
       "      <td>700</td>\n",
       "      <td>5.0</td>\n",
       "      <td>True</td>\n",
       "    </tr>\n",
       "    <tr>\n",
       "      <th>16</th>\n",
       "      <td>IJDNQMDRQITEOD-UHFFFAOYSA-N</td>\n",
       "      <td>oxidized</td>\n",
       "      <td>9.645519</td>\n",
       "      <td>2661.334518</td>\n",
       "      <td>4</td>\n",
       "      <td>24</td>\n",
       "      <td>wavelet</td>\n",
       "      <td>DZVP-MOLOPT-GTH</td>\n",
       "      <td>BLYP</td>\n",
       "      <td>700</td>\n",
       "      <td>5.0</td>\n",
       "      <td>True</td>\n",
       "    </tr>\n",
       "  </tbody>\n",
       "</table>\n",
       "</div>"
      ],
      "text/plain": [
       "                      inchi_key     state  potential      runtime  level_id  \\\n",
       "15  VNWKTOKETHGBQD-UHFFFAOYSA-N  oxidized  12.329008   353.397923         4   \n",
       "16  IJDNQMDRQITEOD-UHFFFAOYSA-N  oxidized   9.645519  2661.334518         4   \n",
       "\n",
       "    n_electrons   solver        basis_set    xc  cutoff  buffer   gpu  \n",
       "15            6  wavelet  DZVP-MOLOPT-GTH  BLYP     700     5.0  True  \n",
       "16           24  wavelet  DZVP-MOLOPT-GTH  BLYP     700     5.0  True  "
      ]
     },
     "execution_count": 13,
     "metadata": {},
     "output_type": "execute_result"
    }
   ],
   "source": [
    "wavelet_records = records.copy()\n",
    "for k, v in wavelet_params.items():\n",
    "    wavelet_records = wavelet_records[wavelet_records[k] == v]\n",
    "assert len(wavelet_records.level_id.value_counts()) == 1\n",
    "print(f'Reduced to {len(wavelet_records)} results for wavelet')\n",
    "wavelet_records.head(2)"
   ]
  },
  {
   "cell_type": "markdown",
   "id": "6260ed41-01be-453d-94c3-5c50dd89170f",
   "metadata": {},
   "source": [
    "Compare results"
   ]
  },
  {
   "cell_type": "code",
   "execution_count": 14,
   "id": "71d0f776-daf8-4c55-9b5c-0de5ae15287d",
   "metadata": {},
   "outputs": [],
   "source": [
    "merged = mt_records.merge(wavelet_records, on=('inchi_key', 'state', 'basis_set', 'xc', 'n_electrons'))\n",
    "n_basis = len(mt_records.basis_set.value_counts())"
   ]
  },
  {
   "cell_type": "code",
   "execution_count": 15,
   "id": "0acf1df8-027d-4c38-8fa4-1a868db73db6",
   "metadata": {},
   "outputs": [
    {
     "data": {
      "image/png": "[encoded data removed]",
      "text/plain": [
       "<Figure size 350x350 with 2 Axes>"
      ]
     },
     "metadata": {},
     "output_type": "display_data"
    }
   ],
   "source": [
    "fig, axs = plt.subplots(2, n_basis, figsize=(3.5, 3.5))\n",
    "\n",
    "for ax, (gid, group) in zip(axs[:, None].T, merged.groupby('basis_set')):\n",
    "    \n",
    "    for a, s in zip(ax, ['reduced', 'oxidized']): \n",
    "        subset = group.query(f'state==\"{s}\"')\n",
    "        a.scatter(subset['potential_x'], subset['potential_y'], label=s)\n",
    "        mae = (subset['potential_x'] - subset['potential_y']).abs().mean()\n",
    "    \n",
    "        a.set_xlim(a.get_xlim())\n",
    "        a.set_ylim(a.get_ylim())\n",
    "    \n",
    "        a.plot(a.get_xlim(), a.get_xlim(), 'k--', lw=1)\n",
    "    \n",
    "        a.set_ylabel('Potential, Wvlt (V)')\n",
    "        \n",
    "        a.text(0.02, 0.95, s.capitalize() + f'\\n  MAE: {mae:.2f}V', ha='left', va='top', transform=a.transAxes)\n",
    "    \n",
    "    ax[-1].set_xlabel('Potential, MT (V)')\n",
    "    \n",
    "fig.tight_layout()"
   ]
  },
  {
   "cell_type": "markdown",
   "id": "a77e5462-e9ea-4e03-b09f-154bb06635f8",
   "metadata": {},
   "source": [
    "They are identical"
   ]
  },
  {
   "cell_type": "code",
   "execution_count": null,
   "id": "9c58e724-b972-4272-85c3-568cc7177680",
   "metadata": {},
   "outputs": [],
   "source": [
    "fig, axs = plt.subplots(1, n_basis, sharey=True, figsize=(3.5, 2.5))\n",
    "\n",
    "for ax, (basis, group) in zip([axs], merged.groupby('basis_set')):   \n",
    "    subset = group.groupby('n_electrons').mean()\n",
    "        \n",
    "    # Plot the values\n",
    "    ax.scatter(subset.index, subset['runtime_y'], color='firebrick', marker='s', label='Wavelet')\n",
    "    wt_linreg = linregress(np.log(subset.index), np.log(subset['runtime_y']))\n",
    "    \n",
    "    ax.scatter(subset.index, subset['runtime_x'], color='indigo', marker='o', label='MT')\n",
    "    mt_linreg = linregress(np.log(subset.index), np.log(subset['runtime_x']))\n",
    "    \n",
    "    # Set up the scale\n",
    "    ax.set_yscale('log')\n",
    "    ax.set_xscale('log')\n",
    "    ax.legend()\n",
    "    \n",
    "    # Plot the linear regressions\n",
    "    ax.set_xlim(ax.get_xlim())\n",
    "    ax.plot(ax.get_xlim(), np.exp(wt_linreg.intercept + wt_linreg.slope * np.log(ax.get_xlim())), \n",
    "            '--', lw=1, color='firebrick')\n",
    "    ax.plot(ax.get_xlim(), np.exp(mt_linreg.intercept + mt_linreg.slope * np.log(ax.get_xlim())),\n",
    "            '--', lw=1, color='indigo')\n",
    "    \n",
    "    ax.set_ylabel('Runtime (s)')\n",
    "    ax.set_xlabel('N. Electrons')\n",
    "    \n",
    "fig.tight_layout()"
   ]
  },
  {
   "cell_type": "markdown",
   "id": "3bce02a7-b6e6-45da-8779-dbfd6de4cab7",
   "metadata": {},
   "source": [
    "Wavelet seems to be decently faster on GPUs"
   ]
  },
  {
   "cell_type": "markdown",
   "id": "e570c4b8-c656-4f76-a5d7-c7e57a3bb980",
   "metadata": {},
   "source": [
    "## Compare CPU to GPU Implementation\n",
    "Get the MT, but with a GPU-accelerated version."
   ]
  },
  {
   "cell_type": "code",
   "execution_count": null,
   "id": "832d4669-f0ca-42ea-99ab-c2b9582b0c6f",
   "metadata": {},
   "outputs": [],
   "source": [
    "gpu_params = wavelet_params.copy()\n",
    "gpu_params.pop('gpu')\n",
    "gpu_params"
   ]
  },
  {
   "cell_type": "code",
   "execution_count": null,
   "id": "98ea9a2a-e3fb-476c-bc7d-2cbf98872008",
   "metadata": {},
   "outputs": [],
   "source": [
    "all_records = data.copy()\n",
    "for k, v in gpu_params.items():\n",
    "    all_records = all_records[all_records[k] == v]\n",
    "print(f'Reduced to {len(all_records)} results for GPU vs CPU comparison')\n",
    "all_records.head(2)"
   ]
  },
  {
   "cell_type": "code",
   "execution_count": null,
   "id": "40157e83-46bb-4473-aef6-e92453de6d27",
   "metadata": {},
   "outputs": [],
   "source": [
    "merged = all_records.query('not gpu').merge(all_records.query('gpu'), on=('inchi_key', 'state', 'basis_set', 'xc', 'n_electrons'))\n",
    "merged['speedup'] = merged['runtime_x'] / merged['runtime_y']"
   ]
  },
  {
   "cell_type": "code",
   "execution_count": null,
   "id": "cb218ad1-be0a-4db7-a1f5-9ba40ff5d7f9",
   "metadata": {},
   "outputs": [],
   "source": [
    "fig, axs = plt.subplots(1, 3, sharey=True, figsize=(6.5, 2.5))\n",
    "\n",
    "for ax, (state, group) in zip(axs, merged.groupby('state')):   \n",
    "    subset = group.groupby('n_electrons').mean()\n",
    "        \n",
    "    # Plot the values\n",
    "    \n",
    "    ax.scatter(subset.index, subset['runtime_y'], color='firebrick', marker='s', label='GPU')\n",
    "    wt_linreg = linregress(np.log(subset.index), np.log(subset['runtime_y']))\n",
    "    \n",
    "    ax.scatter(subset.index, subset['runtime_x'], color='indigo', marker='o', label='CPU')\n",
    "    mt_linreg = linregress(np.log(subset.index), np.log(subset['runtime_x']))\n",
    "    \n",
    "    # Set up the scale\n",
    "    ax.set_title(state)\n",
    "    ax.set_yscale('log')\n",
    "    ax.set_xscale('log')\n",
    "    ax.legend()\n",
    "    \n",
    "    # Plot the linear regressions\n",
    "    ax.set_xlim(ax.get_xlim())\n",
    "    ax.plot(ax.get_xlim(), np.exp(wt_linreg.intercept + wt_linreg.slope * np.log(ax.get_xlim())), \n",
    "            '--', lw=1, color='firebrick')\n",
    "    ax.plot(ax.get_xlim(), np.exp(mt_linreg.intercept + mt_linreg.slope * np.log(ax.get_xlim())),\n",
    "            '--', lw=1, color='indigo')\n",
    "    \n",
    "    ax.set_xlabel('N. Electrons')\n",
    "axs[0].set_ylabel('Runtime (s)')\n",
    "    \n",
    "fig.tight_layout()"
   ]
  },
  {
   "cell_type": "code",
   "execution_count": null,
   "id": "4a0d16b8-24e1-43e2-89ad-6a8f1088b8f6",
   "metadata": {},
   "outputs": [],
   "source": [
    "merged.speedup.describe()"
   ]
  },
  {
   "cell_type": "code",
   "execution_count": null,
   "id": "fe6071dc-62b8-45d1-aebb-36591803c81e",
   "metadata": {},
   "outputs": [],
   "source": [
    "merged.groupby('state')['speedup'].describe()"
   ]
  },
  {
   "cell_type": "code",
   "execution_count": null,
   "id": "09b8e335-7540-4f18-811c-9a7714f35aff",
   "metadata": {},
   "outputs": [],
   "source": [
    "fig, ax = plt.subplots(1, sharey=True, figsize=(3.5, 2.5))\n",
    "\n",
    "for state, group in merged.groupby('state'):\n",
    "    subset = group.groupby('n_electrons').mean()\n",
    "        \n",
    "    # Plot the values\n",
    "    ax.plot(subset.index, subset['speedup'], '--o', label=state)\n",
    "    \n",
    "# Set up the scale\n",
    "ax.set_ylabel('Speedup (x)')\n",
    "ax.set_xlabel('N. Electrons')\n",
    "ax.legend()\n",
    "    \n",
    "fig.tight_layout()"
   ]
  },
  {
   "cell_type": "markdown",
   "id": "752ffa75-fd57-4f6f-aa07-02f060ab010c",
   "metadata": {},
   "source": [
    "The speedup of using a GPU only becomes possible with larger systems"
   ]
  },
  {
   "cell_type": "markdown",
   "id": "b6926efb-ae3c-46ec-b2fb-25a690e0dd15",
   "metadata": {},
   "source": [
    "## Compare to NWChem\n",
    "Make sure we are close to our baseline values"
   ]
  },
  {
   "cell_type": "markdown",
   "id": "b4ed7efc-97cf-4fca-8d09-5160f0669ae0",
   "metadata": {},
   "source": [
    "### Pseudopotential CP2K\n",
    "Get the psuedopotential results (GPW)"
   ]
  },
  {
   "cell_type": "code",
   "execution_count": null,
   "id": "826de1b2-5ee7-4b90-a05e-dc7d1a54d737",
   "metadata": {},
   "outputs": [],
   "source": [
    "gpw_params = {'solver': 'wavelet', 'basis_set': 'DZVP-GTH'}"
   ]
  },
  {
   "cell_type": "code",
   "execution_count": null,
   "id": "04226f3a-1179-4a71-ab10-9bcc669cc3b4",
   "metadata": {},
   "outputs": [],
   "source": [
    "gpw_records = records.copy()\n",
    "gpw_params.pop('basis_set', None)\n",
    "for k, v in gpw_params.items():\n",
    "    gpw_records = gpw_records[gpw_records[k] == v]\n",
    "print(f'Reduced to {len(gpw_records)} results for MT-GPU')\n",
    "gpw_records.head(2)"
   ]
  },
  {
   "cell_type": "code",
   "execution_count": null,
   "id": "fafcebb7-ee2c-4f81-838e-5b42169dc620",
   "metadata": {},
   "outputs": [],
   "source": [
    "chosen = gpw_records\n",
    "print(f'Ran CP2K for {len(chosen.inchi_key.value_counts())} molecules')"
   ]
  },
  {
   "cell_type": "code",
   "execution_count": null,
   "id": "bd1830a2-1965-47f8-8931-3936072f881a",
   "metadata": {},
   "outputs": [],
   "source": [
    "nwchem_results = pd.read_csv('../nwchem/nwchem-redox-potentials.csv').query('basis_set==\"cc-pvdz\"')\n",
    "print(f'Ran NWChem for {len(nwchem_results.inchi_key.value_counts())} molecules')"
   ]
  },
  {
   "cell_type": "markdown",
   "id": "ea0c4974-3f57-4744-950f-a1e0ae56c4e4",
   "metadata": {},
   "source": [
    "Compare to NWChem for different XC functionals"
   ]
  },
  {
   "cell_type": "code",
   "execution_count": null,
   "id": "fd4407fb-077d-4d20-914e-ad54447aa3e7",
   "metadata": {},
   "outputs": [],
   "source": [
    "matched_xc = [('BLYP', 'B3LYP'), ('B3LYP', 'B3LYP')]"
   ]
  },
  {
   "cell_type": "code",
   "execution_count": null,
   "id": "544cea9d-2e39-41de-a0c3-1b8736b22472",
   "metadata": {},
   "outputs": [],
   "source": [
    "fig, axs = plt.subplots(2, len(matched_xc), figsize=(6.5, 3.5))\n",
    "\n",
    "for ax, (cp2k_xc, nwc_xc) in zip(axs[:, :].T, matched_xc):\n",
    "    ax[0].set_title(f'{cp2k_xc}//CC-PVDZ', fontsize=10, loc='left')\n",
    "    nwchem_subset = nwchem_results.query(f'xc==\"{nwc_xc}\"').sort_values('runtime', ascending=True).drop_duplicates(('inchi_key', 'state'), keep='first')\n",
    "    merged = chosen.query(f'xc==\"{cp2k_xc}\"').merge(nwchem_subset, on=('inchi_key', 'state'))\n",
    "    \n",
    "    for a, s in zip(ax, ['reduced', 'oxidized']): \n",
    "        subset = merged.query(f'state==\"{s}\"')\n",
    "        a.scatter(subset['potential_x'], subset['potential_y'], label=s)\n",
    "        mae = (subset['potential_x'] - subset['potential_y']).abs().mean()\n",
    "    \n",
    "        a.set_xlim(a.get_xlim())\n",
    "        a.set_ylim(a.get_ylim())\n",
    "    \n",
    "        a.plot(a.get_xlim(), a.get_xlim(), 'k--', lw=1)\n",
    "        \n",
    "        a.text(0.02, 0.95, s.capitalize() + f'\\n  MAE: {mae:.2f} V', ha='left', va='top', transform=a.transAxes)\n",
    "    \n",
    "    ax[-1].set_xlabel('Potential, CP2K (V)')\n",
    "    \n",
    "for ax in axs[:, 0]:\n",
    "    ax.set_ylabel('Potential, NWChem (V)', fontsize=9)\n",
    "    \n",
    "fig.tight_layout()"
   ]
  },
  {
   "cell_type": "code",
   "execution_count": null,
   "id": "cb7b2c27-5980-4be7-94f8-3dbe0aa210dd",
   "metadata": {},
   "outputs": [],
   "source": [
    "fig, axs = plt.subplots(1, len(matched_xc), sharey=True, sharex=True, figsize=(6.5, 2.25))\n",
    "\n",
    "for ax, (cp2k_xc, nwc_xc) in zip(axs, matched_xc):\n",
    "    nwchem_subset = nwchem_results.query(f'xc==\"{nwc_xc}\"').sort_values('runtime', ascending=True).drop_duplicates(('inchi_key', 'state'), keep='first')\n",
    "    merged = chosen.query(f'xc==\"{cp2k_xc}\"').merge(nwchem_subset, on=('inchi_key', 'state'))\n",
    "    \n",
    "    subset = merged.groupby('n_electrons').mean()\n",
    "        \n",
    "    # Plot the values\n",
    "    ax.scatter(subset.index, subset['runtime_y'], color='firebrick', marker='s', label='NWChem')\n",
    "    nwc_linreg = siegelslopes(np.log(subset['runtime_y']), np.log(subset.index))\n",
    "    ax.text(10, np.exp(nwc_linreg.intercept + nwc_linreg.slope * np.log(10)), \n",
    "            f'$t \\propto N^{{{nwc_linreg.slope:.1f}}}$', va='top')\n",
    "    \n",
    "    ax.scatter(subset.index, subset['runtime_x'], color='indigo', marker='o', label='CP2K')\n",
    "    cpk_linreg = siegelslopes(np.log(subset['runtime_x']), np.log(subset.index))\n",
    "    ax.text(10, np.exp(cpk_linreg.intercept + cpk_linreg.slope * np.log(10)), \n",
    "            f'$t \\propto N^{{{cpk_linreg.slope:.1f}}}$', va='top')\n",
    "    \n",
    "    # Set up the scale\n",
    "    ax.set_yscale('log')\n",
    "    ax.set_xscale('log')\n",
    "    \n",
    "    # Plot the linear regressions\n",
    "    ax.set_xlim([4, 400])\n",
    "    ax.plot(ax.get_xlim(), np.exp(nwc_linreg.intercept + nwc_linreg.slope * np.log(ax.get_xlim())), \n",
    "            '--', lw=1, color='firebrick')\n",
    "    ax.plot(ax.get_xlim(), np.exp(cpk_linreg.intercept + cpk_linreg.slope * np.log(ax.get_xlim())),\n",
    "            '--', lw=1, color='indigo')\n",
    "    \n",
    "    ax.set_xlabel('N. Electrons')\n",
    "    ax.set_title(f'XC: {cp2k_xc}', fontsize=10, loc='left')\n",
    "\n",
    "axs[0].set_ylabel('Runtime (s)')\n",
    "axs[0].legend()\n",
    "fig.tight_layout()"
   ]
  },
  {
   "cell_type": "markdown",
   "id": "6a732aff-4118-42c2-a654-cf425c647e91",
   "metadata": {},
   "source": [
    "### All-electron CP2K\n",
    "Get the all-electron results (GAPW)"
   ]
  },
  {
   "cell_type": "code",
   "execution_count": null,
   "id": "347027d2-471d-4353-a6db-ead8b89dafa7",
   "metadata": {},
   "outputs": [],
   "source": [
    "gapw_params = {'solver': 'mt-all', 'xc': 'HYB_GGA_XC_B3LYP'}"
   ]
  },
  {
   "cell_type": "code",
   "execution_count": null,
   "id": "d90a8435-8b34-4420-bd8f-7653f72074eb",
   "metadata": {},
   "outputs": [],
   "source": [
    "gapw_records = records.copy()\n",
    "gapw_params.pop('basis_set', None)\n",
    "for k, v in gapw_params.items():\n",
    "    gapw_records = gapw_records[gapw_records[k] == v]\n",
    "print(f'Reduced to {len(gapw_records)} results for MT-GPU')\n",
    "gapw_records.head(2)"
   ]
  },
  {
   "cell_type": "code",
   "execution_count": null,
   "id": "041a8ee2-de6a-405e-9d88-e1e249fb8481",
   "metadata": {},
   "outputs": [],
   "source": [
    "chosen = gapw_records\n",
    "print(f'Ran CP2K for {len(chosen.inchi_key.value_counts())} molecules')"
   ]
  },
  {
   "cell_type": "code",
   "execution_count": null,
   "id": "ecdce3a2-5830-4fff-b9cf-6003e062cc86",
   "metadata": {},
   "outputs": [],
   "source": [
    "nwchem_results = pd.read_csv('../nwchem/nwchem-redox-potentials.csv')\n",
    "print(f'Ran NWChem for {len(nwchem_results.inchi_key.value_counts())} molecules')"
   ]
  },
  {
   "cell_type": "markdown",
   "id": "185bc4fc-af29-477a-8286-e54bb81bd2dc",
   "metadata": {},
   "source": [
    "Compare to NWChem"
   ]
  },
  {
   "cell_type": "code",
   "execution_count": null,
   "id": "e253090f-8d0b-4e78-b937-c0bfbb52de24",
   "metadata": {},
   "outputs": [],
   "source": [
    "matched_basis = [('AUG-CC-PVDZ', 'aug-cc-pvdz'), ('6-31G**', '6-31g**')]"
   ]
  },
  {
   "cell_type": "code",
   "execution_count": null,
   "id": "ca134f79-78c5-48a4-89cf-1c5bf5e3f1f8",
   "metadata": {},
   "outputs": [],
   "source": [
    "fig, axs = plt.subplots(2, len(matched_basis), figsize=(6.5, 3.5))\n",
    "\n",
    "for ax, (cp2k_basis, nwc_basis) in zip(axs[:, :].T, matched_basis):\n",
    "    ax[0].set_title(f'Basis: {nwc_basis}', fontsize=10, loc='left')\n",
    "    nwchem_subset = nwchem_results.query(f'basis_set==\"{nwc_basis}\"').sort_values('runtime', ascending=True).drop_duplicates(('inchi_key', 'state'), keep='first')\n",
    "    merged = chosen.query(f'basis_set==\"{cp2k_basis}\"').merge(nwchem_subset, on=('inchi_key', 'state'))\n",
    "    \n",
    "    for a, s in zip(ax, ['reduced', 'oxidized']): \n",
    "        subset = merged.query(f'state==\"{s}\"')\n",
    "        a.scatter(subset['potential_x'], subset['potential_y'], label=s)\n",
    "        mae = (subset['potential_x'] - subset['potential_y']).abs().mean()\n",
    "    \n",
    "        a.set_xlim(a.get_xlim())\n",
    "        a.set_ylim(a.get_ylim())\n",
    "    \n",
    "        a.plot(a.get_xlim(), a.get_xlim(), 'k--', lw=1)\n",
    "        \n",
    "        a.text(0.02, 0.95, s.capitalize() + f'\\n  MAE: {mae:.2f}V', ha='left', va='top', transform=a.transAxes)\n",
    "    \n",
    "    ax[-1].set_xlabel('Potential, CP2K (V)')\n",
    "    \n",
    "for ax in axs[:, 0]:\n",
    "    ax.set_ylabel('Potential, NWChem (V)', fontsize=9)\n",
    "    \n",
    "fig.tight_layout()"
   ]
  },
  {
   "cell_type": "code",
   "execution_count": null,
   "id": "6c11fe17-39b6-4dd7-bd2a-65534e5b874f",
   "metadata": {},
   "outputs": [],
   "source": [
    "fig, axs = plt.subplots(1, len(matched_basis), sharey=True, sharex=True, figsize=(6.5, 2.25))\n",
    "\n",
    "for ax, (cp2k_basis, nwc_basis) in zip(axs, matched_basis):\n",
    "    nwchem_subset = nwchem_results.query(f'basis_set==\"{nwc_basis}\"').sort_values('runtime', ascending=True).drop_duplicates(('inchi_key', 'state'), keep='first')\n",
    "    merged = chosen.query(f'basis_set==\"{cp2k_basis}\"').merge(nwchem_subset, on=('inchi_key', 'state'))\n",
    "    \n",
    "    subset = merged.groupby('n_electrons').mean()\n",
    "        \n",
    "    # Plot the values\n",
    "    ax.scatter(subset.index, subset['runtime_y'], color='firebrick', marker='s', label='NWChem')\n",
    "    nwc_linreg = siegelslopes(np.log(subset['runtime_y']), np.log(subset.index))\n",
    "    ax.text(10, np.exp(nwc_linreg.intercept + nwc_linreg.slope * np.log(10)), \n",
    "            f'$t \\propto N^{{{nwc_linreg.slope:.1f}}}$', va='top')\n",
    "    \n",
    "    ax.scatter(subset.index, subset['runtime_x'], color='indigo', marker='o', label='CP2K')\n",
    "    cpk_linreg = siegelslopes(np.log(subset['runtime_x']), np.log(subset.index))\n",
    "    ax.text(10, np.exp(cpk_linreg.intercept + cpk_linreg.slope * np.log(10)), \n",
    "            f'$t \\propto N^{{{cpk_linreg.slope:.1f}}}$', va='top')\n",
    "    \n",
    "    # Set up the scale\n",
    "    ax.set_yscale('log')\n",
    "    ax.set_xscale('log')\n",
    "    \n",
    "    # Plot the linear regressions\n",
    "    ax.set_xlim([4, 400])\n",
    "    ax.plot(ax.get_xlim(), np.exp(nwc_linreg.intercept + nwc_linreg.slope * np.log(ax.get_xlim())), \n",
    "            '--', lw=1, color='firebrick')\n",
    "    ax.plot(ax.get_xlim(), np.exp(cpk_linreg.intercept + cpk_linreg.slope * np.log(ax.get_xlim())),\n",
    "            '--', lw=1, color='indigo')\n",
    "    \n",
    "    ax.set_xlabel('N. Electrons')\n",
    "    ax.set_title(f'Basis: {nwc_basis}', fontsize=10, loc='left')\n",
    "\n",
    "axs[0].set_ylabel('Runtime (s)')\n",
    "axs[0].legend()\n",
    "fig.tight_layout()"
   ]
  },
  {
   "cell_type": "code",
   "execution_count": null,
   "id": "c9f35470-29c5-4fcf-bbdd-1028630fee43",
   "metadata": {},
   "outputs": [],
   "source": []
  }
 ],
 "metadata": {
  "kernelspec": {
   "display_name": "Python 3 (ipykernel)",
   "language": "python",
   "name": "python3"
  },
  "language_info": {
   "codemirror_mode": {
    "name": "ipython",
    "version": 3
   },
   "file_extension": ".py",
   "mimetype": "text/x-python",
   "name": "python",
   "nbconvert_exporter": "python",
   "pygments_lexer": "ipython3",
   "version": "3.10.6"
  }
 },
 "nbformat": 4,
 "nbformat_minor": 5
}
