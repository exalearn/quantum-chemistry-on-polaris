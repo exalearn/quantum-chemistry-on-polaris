{
 "cells": [
  {
   "cell_type": "markdown",
   "id": "79add5f5-6537-4314-91e6-e5ed703e2cc5",
   "metadata": {},
   "source": [
    "## Compile the redox potentials\n",
    "We want to see what the energy differences for different methods are\n"
   ]
  },
  {
   "cell_type": "code",
   "execution_count": 1,
   "id": "4e5bed46-4376-40ef-bb59-b8898e4e9a27",
   "metadata": {
    "execution": {
     "iopub.execute_input": "2022-12-19T19:27:26.819461Z",
     "iopub.status.busy": "2022-12-19T19:27:26.819345Z",
     "iopub.status.idle": "2022-12-19T19:27:28.019456Z",
     "shell.execute_reply": "2022-12-19T19:27:28.019027Z"
    }
   },
   "outputs": [],
   "source": [
    "%matplotlib inline\n",
    "from matplotlib import pyplot as plt\n",
    "from scipy.stats import linregress, siegelslopes\n",
    "from ase.db import connect\n",
    "import pandas as pd\n",
    "import numpy as np"
   ]
  },
  {
   "cell_type": "markdown",
   "id": "b058d8fd-7af1-413d-9945-bb1f7678c7c6",
   "metadata": {},
   "source": [
    "## Load the Database into Pandas\n",
    "Get the energies for each system for each CP2K setting"
   ]
  },
  {
   "cell_type": "code",
   "execution_count": 2,
   "id": "6c6afe24-7d4f-441f-915e-57f41191dc5e",
   "metadata": {
    "execution": {
     "iopub.execute_input": "2022-12-19T19:27:28.022035Z",
     "iopub.status.busy": "2022-12-19T19:27:28.021692Z",
     "iopub.status.idle": "2022-12-19T19:27:28.028205Z",
     "shell.execute_reply": "2022-12-19T19:27:28.027624Z"
    }
   },
   "outputs": [],
   "source": [
    "example_molecules = pd.read_csv('../data/example_molecules.csv')"
   ]
  },
  {
   "cell_type": "code",
   "execution_count": 3,
   "id": "43f70e71-5d84-475b-a994-3aa80408d6ea",
   "metadata": {
    "execution": {
     "iopub.execute_input": "2022-12-19T19:27:28.029897Z",
     "iopub.status.busy": "2022-12-19T19:27:28.029625Z",
     "iopub.status.idle": "2022-12-19T19:27:28.033971Z",
     "shell.execute_reply": "2022-12-19T19:27:28.033649Z"
    }
   },
   "outputs": [],
   "source": [
    "mol_props = example_molecules.set_index('inchi_key').to_dict('index')"
   ]
  },
  {
   "cell_type": "code",
   "execution_count": 4,
   "id": "3bbb5cc1-8e8d-41d8-bd3c-78304e987eed",
   "metadata": {
    "execution": {
     "iopub.execute_input": "2022-12-19T19:27:28.035393Z",
     "iopub.status.busy": "2022-12-19T19:27:28.035207Z",
     "iopub.status.idle": "2022-12-19T19:27:28.059762Z",
     "shell.execute_reply": "2022-12-19T19:27:28.059422Z"
    }
   },
   "outputs": [
    {
     "name": "stdout",
     "output_type": "stream",
     "text": [
      "Loaded 136 computations\n"
     ]
    }
   ],
   "source": [
    "data = []\n",
    "for psolver in ['mt', 'wavelet', 'mt-gpu']:\n",
    "    with connect(f'{psolver}/data.db') as db:\n",
    "        for row in db.select(''):\n",
    "            record = row.key_value_pairs.copy()\n",
    "            record['basis_set'] = record['basis_set'].upper()\n",
    "            record['n_electrons'] = mol_props[record['inchi_key']]['n_electrons']\n",
    "            record['energy'] = row.energy\n",
    "            record['solver'] = psolver\n",
    "            data.append(record)\n",
    "data = pd.DataFrame(data)\n",
    "print(f'Loaded {len(data)} computations')"
   ]
  },
  {
   "cell_type": "markdown",
   "id": "045724e0-1d44-4afe-a128-4b24b0695340",
   "metadata": {},
   "source": [
    "## Compute the redox potentials\n",
    "Get the energy differences between different stats"
   ]
  },
  {
   "cell_type": "code",
   "execution_count": 5,
   "id": "44b240cf-841f-4da2-a35f-5306b678db05",
   "metadata": {
    "execution": {
     "iopub.execute_input": "2022-12-19T19:27:28.061384Z",
     "iopub.status.busy": "2022-12-19T19:27:28.061175Z",
     "iopub.status.idle": "2022-12-19T19:27:28.125792Z",
     "shell.execute_reply": "2022-12-19T19:27:28.125378Z"
    }
   },
   "outputs": [],
   "source": [
    "method_keys = ['solver', 'basis_set', 'xc', 'cutoff', 'buffer']\n",
    "records = []\n",
    "for lid, (level, subset) in enumerate(data.groupby(method_keys)):\n",
    "    method_desc = dict(zip(method_keys, level))\n",
    "    \n",
    "    # Match states\n",
    "    neutrals = subset.query('state==\"neutral\"')\n",
    "    for state in ['oxidized', 'reduced']:\n",
    "        redoxed = subset.query(f'state==\"{state}\"')\n",
    "        merged = redoxed.merge(neutrals, on='inchi_key')\n",
    "        \n",
    "        # Create a record for each\n",
    "        for _, row in merged.iterrows():\n",
    "            record = {}\n",
    "            record['inchi_key'] = row['inchi_key']\n",
    "            record['state'] = state\n",
    "            record['potential'] = row['energy_x'] - row['energy_y']\n",
    "            record['runtime'] = row['runtime_x'] + row['runtime_y']\n",
    "            record['level_id'] = lid\n",
    "            record['n_electrons'] = row['n_electrons_x']\n",
    "            record.update(method_desc)\n",
    "            records.append(record)\n",
    "records = pd.DataFrame(records)"
   ]
  },
  {
   "cell_type": "markdown",
   "id": "46f462e7-067a-4deb-bfc3-e892c8e079fb",
   "metadata": {},
   "source": [
    "## Compare Integrators\n",
    "Determine whether wavelets or MT are a better choice"
   ]
  },
  {
   "cell_type": "code",
   "execution_count": 6,
   "id": "76eed39a-1c7c-493f-a145-bc2ea2a4eb38",
   "metadata": {
    "execution": {
     "iopub.execute_input": "2022-12-19T19:27:28.127634Z",
     "iopub.status.busy": "2022-12-19T19:27:28.127363Z",
     "iopub.status.idle": "2022-12-19T19:27:28.129827Z",
     "shell.execute_reply": "2022-12-19T19:27:28.129472Z"
    }
   },
   "outputs": [],
   "source": [
    "mt_params = {'solver': 'mt', 'cutoff': 500, 'basis_set': 'AUG-DZVP-GTH'}\n",
    "wavelet_params = {'solver': 'wavelet', 'cutoff': 500, 'basis_set': 'AUG-DZVP-GTH'}"
   ]
  },
  {
   "cell_type": "code",
   "execution_count": 7,
   "id": "b182b246-3362-4525-9de3-5770d728cc96",
   "metadata": {
    "execution": {
     "iopub.execute_input": "2022-12-19T19:27:28.131261Z",
     "iopub.status.busy": "2022-12-19T19:27:28.131015Z",
     "iopub.status.idle": "2022-12-19T19:27:28.143983Z",
     "shell.execute_reply": "2022-12-19T19:27:28.143647Z"
    }
   },
   "outputs": [
    {
     "name": "stdout",
     "output_type": "stream",
     "text": [
      "Reduced to 8 results for MT\n"
     ]
    },
    {
     "data": {
      "text/html": [
       "<div>\n",
       "<style scoped>\n",
       "    .dataframe tbody tr th:only-of-type {\n",
       "        vertical-align: middle;\n",
       "    }\n",
       "\n",
       "    .dataframe tbody tr th {\n",
       "        vertical-align: top;\n",
       "    }\n",
       "\n",
       "    .dataframe thead th {\n",
       "        text-align: right;\n",
       "    }\n",
       "</style>\n",
       "<table border=\"1\" class=\"dataframe\">\n",
       "  <thead>\n",
       "    <tr style=\"text-align: right;\">\n",
       "      <th></th>\n",
       "      <th>inchi_key</th>\n",
       "      <th>state</th>\n",
       "      <th>potential</th>\n",
       "      <th>runtime</th>\n",
       "      <th>level_id</th>\n",
       "      <th>n_electrons</th>\n",
       "      <th>solver</th>\n",
       "      <th>basis_set</th>\n",
       "      <th>xc</th>\n",
       "      <th>cutoff</th>\n",
       "      <th>buffer</th>\n",
       "    </tr>\n",
       "  </thead>\n",
       "  <tbody>\n",
       "    <tr>\n",
       "      <th>0</th>\n",
       "      <td>VNWKTOKETHGBQD-UHFFFAOYSA-N</td>\n",
       "      <td>oxidized</td>\n",
       "      <td>12.255982</td>\n",
       "      <td>585.008532</td>\n",
       "      <td>0</td>\n",
       "      <td>6</td>\n",
       "      <td>mt</td>\n",
       "      <td>AUG-DZVP-GTH</td>\n",
       "      <td>BLYP</td>\n",
       "      <td>500</td>\n",
       "      <td>6</td>\n",
       "    </tr>\n",
       "    <tr>\n",
       "      <th>1</th>\n",
       "      <td>VNWKTOKETHGBQD-UHFFFAOYSA-N</td>\n",
       "      <td>oxidized</td>\n",
       "      <td>12.255982</td>\n",
       "      <td>583.011764</td>\n",
       "      <td>0</td>\n",
       "      <td>6</td>\n",
       "      <td>mt</td>\n",
       "      <td>AUG-DZVP-GTH</td>\n",
       "      <td>BLYP</td>\n",
       "      <td>500</td>\n",
       "      <td>6</td>\n",
       "    </tr>\n",
       "  </tbody>\n",
       "</table>\n",
       "</div>"
      ],
      "text/plain": [
       "                     inchi_key     state  potential     runtime  level_id  \\\n",
       "0  VNWKTOKETHGBQD-UHFFFAOYSA-N  oxidized  12.255982  585.008532         0   \n",
       "1  VNWKTOKETHGBQD-UHFFFAOYSA-N  oxidized  12.255982  583.011764         0   \n",
       "\n",
       "   n_electrons solver     basis_set    xc  cutoff  buffer  \n",
       "0            6     mt  AUG-DZVP-GTH  BLYP     500       6  \n",
       "1            6     mt  AUG-DZVP-GTH  BLYP     500       6  "
      ]
     },
     "execution_count": 7,
     "metadata": {},
     "output_type": "execute_result"
    }
   ],
   "source": [
    "mt_records = records.copy()\n",
    "for k, v in mt_params.items():\n",
    "    mt_records = mt_records[mt_records[k] == v]\n",
    "assert len(mt_records.level_id.value_counts()) == 1\n",
    "print(f'Reduced to {len(mt_records)} results for MT')\n",
    "mt_records.head(2)"
   ]
  },
  {
   "cell_type": "code",
   "execution_count": 8,
   "id": "3c1b3edd-5345-4dc9-bfe6-2317ed1eca6d",
   "metadata": {
    "execution": {
     "iopub.execute_input": "2022-12-19T19:27:28.145491Z",
     "iopub.status.busy": "2022-12-19T19:27:28.145251Z",
     "iopub.status.idle": "2022-12-19T19:27:28.154430Z",
     "shell.execute_reply": "2022-12-19T19:27:28.154089Z"
    }
   },
   "outputs": [
    {
     "name": "stdout",
     "output_type": "stream",
     "text": [
      "Reduced to 8 results for wavelet\n"
     ]
    },
    {
     "data": {
      "text/html": [
       "<div>\n",
       "<style scoped>\n",
       "    .dataframe tbody tr th:only-of-type {\n",
       "        vertical-align: middle;\n",
       "    }\n",
       "\n",
       "    .dataframe tbody tr th {\n",
       "        vertical-align: top;\n",
       "    }\n",
       "\n",
       "    .dataframe thead th {\n",
       "        text-align: right;\n",
       "    }\n",
       "</style>\n",
       "<table border=\"1\" class=\"dataframe\">\n",
       "  <thead>\n",
       "    <tr style=\"text-align: right;\">\n",
       "      <th></th>\n",
       "      <th>inchi_key</th>\n",
       "      <th>state</th>\n",
       "      <th>potential</th>\n",
       "      <th>runtime</th>\n",
       "      <th>level_id</th>\n",
       "      <th>n_electrons</th>\n",
       "      <th>solver</th>\n",
       "      <th>basis_set</th>\n",
       "      <th>xc</th>\n",
       "      <th>cutoff</th>\n",
       "      <th>buffer</th>\n",
       "    </tr>\n",
       "  </thead>\n",
       "  <tbody>\n",
       "    <tr>\n",
       "      <th>85</th>\n",
       "      <td>VNWKTOKETHGBQD-UHFFFAOYSA-N</td>\n",
       "      <td>oxidized</td>\n",
       "      <td>12.256055</td>\n",
       "      <td>708.046393</td>\n",
       "      <td>6</td>\n",
       "      <td>6</td>\n",
       "      <td>wavelet</td>\n",
       "      <td>AUG-DZVP-GTH</td>\n",
       "      <td>BLYP</td>\n",
       "      <td>500</td>\n",
       "      <td>6</td>\n",
       "    </tr>\n",
       "    <tr>\n",
       "      <th>86</th>\n",
       "      <td>IJDNQMDRQITEOD-UHFFFAOYSA-N</td>\n",
       "      <td>oxidized</td>\n",
       "      <td>9.665833</td>\n",
       "      <td>4113.525382</td>\n",
       "      <td>6</td>\n",
       "      <td>24</td>\n",
       "      <td>wavelet</td>\n",
       "      <td>AUG-DZVP-GTH</td>\n",
       "      <td>BLYP</td>\n",
       "      <td>500</td>\n",
       "      <td>6</td>\n",
       "    </tr>\n",
       "  </tbody>\n",
       "</table>\n",
       "</div>"
      ],
      "text/plain": [
       "                      inchi_key     state  potential      runtime  level_id  \\\n",
       "85  VNWKTOKETHGBQD-UHFFFAOYSA-N  oxidized  12.256055   708.046393         6   \n",
       "86  IJDNQMDRQITEOD-UHFFFAOYSA-N  oxidized   9.665833  4113.525382         6   \n",
       "\n",
       "    n_electrons   solver     basis_set    xc  cutoff  buffer  \n",
       "85            6  wavelet  AUG-DZVP-GTH  BLYP     500       6  \n",
       "86           24  wavelet  AUG-DZVP-GTH  BLYP     500       6  "
      ]
     },
     "execution_count": 8,
     "metadata": {},
     "output_type": "execute_result"
    }
   ],
   "source": [
    "wavelet_records = records.copy()\n",
    "for k, v in wavelet_params.items():\n",
    "    wavelet_records = wavelet_records[wavelet_records[k] == v]\n",
    "assert len(wavelet_records.level_id.value_counts()) == 1\n",
    "print(f'Reduced to {len(wavelet_records)} results for wavelet')\n",
    "wavelet_records.head(2)"
   ]
  },
  {
   "cell_type": "markdown",
   "id": "6260ed41-01be-453d-94c3-5c50dd89170f",
   "metadata": {},
   "source": [
    "Compare results"
   ]
  },
  {
   "cell_type": "code",
   "execution_count": 9,
   "id": "71d0f776-daf8-4c55-9b5c-0de5ae15287d",
   "metadata": {
    "execution": {
     "iopub.execute_input": "2022-12-19T19:27:28.155855Z",
     "iopub.status.busy": "2022-12-19T19:27:28.155659Z",
     "iopub.status.idle": "2022-12-19T19:27:28.160970Z",
     "shell.execute_reply": "2022-12-19T19:27:28.160639Z"
    }
   },
   "outputs": [],
   "source": [
    "merged = mt_records.merge(wavelet_records, on=('inchi_key', 'state', 'basis_set', 'xc', 'n_electrons'))\n",
    "n_basis = len(mt_records.basis_set.value_counts())"
   ]
  },
  {
   "cell_type": "code",
   "execution_count": 10,
   "id": "0acf1df8-027d-4c38-8fa4-1a868db73db6",
   "metadata": {
    "execution": {
     "iopub.execute_input": "2022-12-19T19:27:28.162486Z",
     "iopub.status.busy": "2022-12-19T19:27:28.162292Z",
     "iopub.status.idle": "2022-12-19T19:27:28.345090Z",
     "shell.execute_reply": "2022-12-19T19:27:28.344787Z"
    }
   },
   "outputs": [
    {
     "data": {
      "image/png": "[encoded data removed]",
      "text/plain": [
       "<Figure size 350x350 with 2 Axes>"
      ]
     },
     "metadata": {},
     "output_type": "display_data"
    }
   ],
   "source": [
    "fig, axs = plt.subplots(2, n_basis, figsize=(3.5, 3.5))\n",
    "\n",
    "for ax, (gid, group) in zip(axs[:, None].T, merged.groupby('basis_set')):\n",
    "    \n",
    "    for a, s in zip(ax, ['reduced', 'oxidized']): \n",
    "        subset = group.query(f'state==\"{s}\"')\n",
    "        a.scatter(subset['potential_x'], subset['potential_y'], label=s)\n",
    "        mae = (subset['potential_x'] - subset['potential_y']).abs().mean()\n",
    "    \n",
    "        a.set_xlim(a.get_xlim())\n",
    "        a.set_ylim(a.get_ylim())\n",
    "    \n",
    "        a.plot(a.get_xlim(), a.get_xlim(), 'k--', lw=1)\n",
    "    \n",
    "        a.set_ylabel('Potential, Wvlt (V)')\n",
    "        \n",
    "        a.text(0.02, 0.95, s.capitalize() + f'\\n  MAE: {mae:.2f}V', ha='left', va='top', transform=a.transAxes)\n",
    "    \n",
    "    ax[-1].set_xlabel('Potential, MT (V)')\n",
    "    \n",
    "fig.tight_layout()"
   ]
  },
  {
   "cell_type": "code",
   "execution_count": 11,
   "id": "9c58e724-b972-4272-85c3-568cc7177680",
   "metadata": {
    "execution": {
     "iopub.execute_input": "2022-12-19T19:27:28.346637Z",
     "iopub.status.busy": "2022-12-19T19:27:28.346502Z",
     "iopub.status.idle": "2022-12-19T19:27:28.893607Z",
     "shell.execute_reply": "2022-12-19T19:27:28.893204Z"
    }
   },
   "outputs": [
    {
     "name": "stderr",
     "output_type": "stream",
     "text": [
      "/home/lward/miniconda3/envs/qcgpu/lib/python3.10/site-packages/scipy/stats/_stats_mstats_common.py:181: RuntimeWarning: invalid value encountered in double_scalars\n",
      "  slope = ssxym / ssxm\n",
      "/home/lward/miniconda3/envs/qcgpu/lib/python3.10/site-packages/scipy/stats/_stats_mstats_common.py:195: RuntimeWarning: invalid value encountered in sqrt\n",
      "  t = r * np.sqrt(df / ((1.0 - r + TINY)*(1.0 + r + TINY)))\n",
      "/home/lward/miniconda3/envs/qcgpu/lib/python3.10/site-packages/scipy/stats/_stats_mstats_common.py:198: RuntimeWarning: invalid value encountered in double_scalars\n",
      "  slope_stderr = np.sqrt((1 - r**2) * ssym / ssxm / df)\n"
     ]
    },
    {
     "data": {
      "image/png": "[encoded data removed]",
      "text/plain": [
       "<Figure size 350x250 with 1 Axes>"
      ]
     },
     "metadata": {},
     "output_type": "display_data"
    }
   ],
   "source": [
    "fig, axs = plt.subplots(1, n_basis, sharey=True, figsize=(3.5, 2.5))\n",
    "\n",
    "for ax, (basis, group) in zip([axs], merged.groupby('basis_set')):   \n",
    "    subset = group.groupby('n_electrons').mean()\n",
    "        \n",
    "    # Plot the values\n",
    "    ax.scatter(subset.index, subset['runtime_y'], color='firebrick', marker='s', label='Wavelet')\n",
    "    wt_linreg = linregress(np.log(subset.index), np.log(subset['runtime_y']))\n",
    "    \n",
    "    ax.scatter(subset.index, subset['runtime_x'], color='indigo', marker='o', label='MT')\n",
    "    mt_linreg = linregress(np.log(subset.index), np.log(subset['runtime_x']))\n",
    "    \n",
    "    # Set up the scale\n",
    "    ax.set_yscale('log')\n",
    "    ax.set_xscale('log')\n",
    "    ax.legend()\n",
    "    \n",
    "    # Plot the linear regressions\n",
    "    ax.set_xlim(ax.get_xlim())\n",
    "    ax.plot(ax.get_xlim(), np.exp(wt_linreg.intercept + wt_linreg.slope * np.log(ax.get_xlim())), \n",
    "            '--', lw=1, color='firebrick')\n",
    "    ax.plot(ax.get_xlim(), np.exp(mt_linreg.intercept + mt_linreg.slope * np.log(ax.get_xlim())),\n",
    "            '--', lw=1, color='indigo')\n",
    "    \n",
    "    ax.set_ylabel('Runtime (s)')\n",
    "    ax.set_xlabel('N. Electrons')\n",
    "    \n",
    "fig.tight_layout()"
   ]
  },
  {
   "cell_type": "markdown",
   "id": "3bce02a7-b6e6-45da-8779-dbfd6de4cab7",
   "metadata": {},
   "source": [
    "MT seems to be slightly faster"
   ]
  },
  {
   "cell_type": "markdown",
   "id": "d6b83c5f-a97c-49e4-ac0c-c7d4a27ff1c6",
   "metadata": {},
   "source": [
    "## Compare CPU to GPU Implementation\n",
    "Get the MT, but with a GPU-accelerated version."
   ]
  },
  {
   "cell_type": "code",
   "execution_count": 12,
   "id": "9e8f6680-46bd-4886-a755-9d7baecbad5e",
   "metadata": {
    "execution": {
     "iopub.execute_input": "2022-12-19T19:27:28.895681Z",
     "iopub.status.busy": "2022-12-19T19:27:28.895438Z",
     "iopub.status.idle": "2022-12-19T19:27:28.897898Z",
     "shell.execute_reply": "2022-12-19T19:27:28.897566Z"
    }
   },
   "outputs": [],
   "source": [
    "mt_params['basis_set'] = 'DZVP-GTH'"
   ]
  },
  {
   "cell_type": "code",
   "execution_count": 13,
   "id": "684b2414-35fb-437b-92c4-18e7570a3e86",
   "metadata": {
    "execution": {
     "iopub.execute_input": "2022-12-19T19:27:28.899359Z",
     "iopub.status.busy": "2022-12-19T19:27:28.899150Z",
     "iopub.status.idle": "2022-12-19T19:27:28.901282Z",
     "shell.execute_reply": "2022-12-19T19:27:28.900944Z"
    }
   },
   "outputs": [],
   "source": [
    "gpu_params = mt_params.copy()\n",
    "gpu_params['solver'] += \"-gpu\""
   ]
  },
  {
   "cell_type": "code",
   "execution_count": 14,
   "id": "98ea9a2a-e3fb-476c-bc7d-2cbf98872008",
   "metadata": {
    "execution": {
     "iopub.execute_input": "2022-12-19T19:27:28.902776Z",
     "iopub.status.busy": "2022-12-19T19:27:28.902598Z",
     "iopub.status.idle": "2022-12-19T19:27:28.911897Z",
     "shell.execute_reply": "2022-12-19T19:27:28.911606Z"
    }
   },
   "outputs": [
    {
     "name": "stdout",
     "output_type": "stream",
     "text": [
      "Reduced to 36 results for MT-GPU\n"
     ]
    },
    {
     "data": {
      "text/html": [
       "<div>\n",
       "<style scoped>\n",
       "    .dataframe tbody tr th:only-of-type {\n",
       "        vertical-align: middle;\n",
       "    }\n",
       "\n",
       "    .dataframe tbody tr th {\n",
       "        vertical-align: top;\n",
       "    }\n",
       "\n",
       "    .dataframe thead th {\n",
       "        text-align: right;\n",
       "    }\n",
       "</style>\n",
       "<table border=\"1\" class=\"dataframe\">\n",
       "  <thead>\n",
       "    <tr style=\"text-align: right;\">\n",
       "      <th></th>\n",
       "      <th>inchi_key</th>\n",
       "      <th>state</th>\n",
       "      <th>runtime</th>\n",
       "      <th>basis_set</th>\n",
       "      <th>cutoff</th>\n",
       "      <th>buffer</th>\n",
       "      <th>xc</th>\n",
       "      <th>n_electrons</th>\n",
       "      <th>energy</th>\n",
       "      <th>solver</th>\n",
       "    </tr>\n",
       "  </thead>\n",
       "  <tbody>\n",
       "    <tr>\n",
       "      <th>100</th>\n",
       "      <td>VNWKTOKETHGBQD-UHFFFAOYSA-N</td>\n",
       "      <td>neutral</td>\n",
       "      <td>45.741822</td>\n",
       "      <td>DZVP-GTH</td>\n",
       "      <td>500</td>\n",
       "      <td>6</td>\n",
       "      <td>BLYP</td>\n",
       "      <td>6</td>\n",
       "      <td>-218.722084</td>\n",
       "      <td>mt-gpu</td>\n",
       "    </tr>\n",
       "    <tr>\n",
       "      <th>101</th>\n",
       "      <td>VNWKTOKETHGBQD-UHFFFAOYSA-N</td>\n",
       "      <td>oxidized</td>\n",
       "      <td>195.385836</td>\n",
       "      <td>DZVP-GTH</td>\n",
       "      <td>500</td>\n",
       "      <td>6</td>\n",
       "      <td>BLYP</td>\n",
       "      <td>6</td>\n",
       "      <td>-206.586435</td>\n",
       "      <td>mt-gpu</td>\n",
       "    </tr>\n",
       "  </tbody>\n",
       "</table>\n",
       "</div>"
      ],
      "text/plain": [
       "                       inchi_key     state     runtime basis_set  cutoff  \\\n",
       "100  VNWKTOKETHGBQD-UHFFFAOYSA-N   neutral   45.741822  DZVP-GTH     500   \n",
       "101  VNWKTOKETHGBQD-UHFFFAOYSA-N  oxidized  195.385836  DZVP-GTH     500   \n",
       "\n",
       "     buffer    xc  n_electrons      energy  solver  \n",
       "100       6  BLYP            6 -218.722084  mt-gpu  \n",
       "101       6  BLYP            6 -206.586435  mt-gpu  "
      ]
     },
     "execution_count": 14,
     "metadata": {},
     "output_type": "execute_result"
    }
   ],
   "source": [
    "gpu_records = data.copy()\n",
    "for k, v in gpu_params.items():\n",
    "    gpu_records = gpu_records[gpu_records[k] == v]\n",
    "print(f'Reduced to {len(gpu_records)} results for MT-GPU')\n",
    "gpu_records.head(2)"
   ]
  },
  {
   "cell_type": "code",
   "execution_count": 15,
   "id": "3cdeb852-2582-49e3-8ab3-9499dc18b72a",
   "metadata": {
    "execution": {
     "iopub.execute_input": "2022-12-19T19:27:28.913367Z",
     "iopub.status.busy": "2022-12-19T19:27:28.913130Z",
     "iopub.status.idle": "2022-12-19T19:27:28.921719Z",
     "shell.execute_reply": "2022-12-19T19:27:28.921419Z"
    }
   },
   "outputs": [
    {
     "name": "stdout",
     "output_type": "stream",
     "text": [
      "Reduced to 36 results for MT-CPU\n"
     ]
    },
    {
     "data": {
      "text/html": [
       "<div>\n",
       "<style scoped>\n",
       "    .dataframe tbody tr th:only-of-type {\n",
       "        vertical-align: middle;\n",
       "    }\n",
       "\n",
       "    .dataframe tbody tr th {\n",
       "        vertical-align: top;\n",
       "    }\n",
       "\n",
       "    .dataframe thead th {\n",
       "        text-align: right;\n",
       "    }\n",
       "</style>\n",
       "<table border=\"1\" class=\"dataframe\">\n",
       "  <thead>\n",
       "    <tr style=\"text-align: right;\">\n",
       "      <th></th>\n",
       "      <th>inchi_key</th>\n",
       "      <th>state</th>\n",
       "      <th>runtime</th>\n",
       "      <th>basis_set</th>\n",
       "      <th>cutoff</th>\n",
       "      <th>buffer</th>\n",
       "      <th>xc</th>\n",
       "      <th>n_electrons</th>\n",
       "      <th>energy</th>\n",
       "      <th>solver</th>\n",
       "    </tr>\n",
       "  </thead>\n",
       "  <tbody>\n",
       "    <tr>\n",
       "      <th>4</th>\n",
       "      <td>VNWKTOKETHGBQD-UHFFFAOYSA-N</td>\n",
       "      <td>neutral</td>\n",
       "      <td>111.685695</td>\n",
       "      <td>DZVP-GTH</td>\n",
       "      <td>500</td>\n",
       "      <td>6</td>\n",
       "      <td>BLYP</td>\n",
       "      <td>6</td>\n",
       "      <td>-218.722084</td>\n",
       "      <td>mt</td>\n",
       "    </tr>\n",
       "    <tr>\n",
       "      <th>5</th>\n",
       "      <td>VNWKTOKETHGBQD-UHFFFAOYSA-N</td>\n",
       "      <td>oxidized</td>\n",
       "      <td>495.013552</td>\n",
       "      <td>DZVP-GTH</td>\n",
       "      <td>500</td>\n",
       "      <td>6</td>\n",
       "      <td>BLYP</td>\n",
       "      <td>6</td>\n",
       "      <td>-206.586435</td>\n",
       "      <td>mt</td>\n",
       "    </tr>\n",
       "  </tbody>\n",
       "</table>\n",
       "</div>"
      ],
      "text/plain": [
       "                     inchi_key     state     runtime basis_set  cutoff  \\\n",
       "4  VNWKTOKETHGBQD-UHFFFAOYSA-N   neutral  111.685695  DZVP-GTH     500   \n",
       "5  VNWKTOKETHGBQD-UHFFFAOYSA-N  oxidized  495.013552  DZVP-GTH     500   \n",
       "\n",
       "   buffer    xc  n_electrons      energy solver  \n",
       "4       6  BLYP            6 -218.722084     mt  \n",
       "5       6  BLYP            6 -206.586435     mt  "
      ]
     },
     "execution_count": 15,
     "metadata": {},
     "output_type": "execute_result"
    }
   ],
   "source": [
    "cpu_records = data.copy()\n",
    "for k, v in mt_params.items():\n",
    "    cpu_records = cpu_records[cpu_records[k] == v]\n",
    "print(f'Reduced to {len(cpu_records)} results for MT-CPU')\n",
    "cpu_records.head(2)"
   ]
  },
  {
   "cell_type": "code",
   "execution_count": 16,
   "id": "40157e83-46bb-4473-aef6-e92453de6d27",
   "metadata": {
    "execution": {
     "iopub.execute_input": "2022-12-19T19:27:28.923185Z",
     "iopub.status.busy": "2022-12-19T19:27:28.922946Z",
     "iopub.status.idle": "2022-12-19T19:27:28.928196Z",
     "shell.execute_reply": "2022-12-19T19:27:28.927857Z"
    }
   },
   "outputs": [],
   "source": [
    "merged = cpu_records.merge(gpu_records, on=('inchi_key', 'state', 'basis_set', 'xc', 'n_electrons'))\n",
    "merged['speedup'] = merged['runtime_x'] / merged['runtime_y']"
   ]
  },
  {
   "cell_type": "code",
   "execution_count": 17,
   "id": "cb218ad1-be0a-4db7-a1f5-9ba40ff5d7f9",
   "metadata": {
    "execution": {
     "iopub.execute_input": "2022-12-19T19:27:28.929835Z",
     "iopub.status.busy": "2022-12-19T19:27:28.929597Z",
     "iopub.status.idle": "2022-12-19T19:27:30.112683Z",
     "shell.execute_reply": "2022-12-19T19:27:30.112335Z"
    }
   },
   "outputs": [
    {
     "data": {
      "image/png": "[encoded data removed]",
      "text/plain": [
       "<Figure size 650x250 with 3 Axes>"
      ]
     },
     "metadata": {},
     "output_type": "display_data"
    }
   ],
   "source": [
    "fig, axs = plt.subplots(1, 3, sharey=True, figsize=(6.5, 2.5))\n",
    "\n",
    "for ax, (state, group) in zip(axs, merged.groupby('state')):   \n",
    "    subset = group.groupby('n_electrons').mean()\n",
    "        \n",
    "    # Plot the values\n",
    "    ax.scatter(subset.index, subset['runtime_y'], color='firebrick', marker='s', label='GPU')\n",
    "    wt_linreg = linregress(np.log(subset.index), np.log(subset['runtime_y']))\n",
    "    \n",
    "    ax.scatter(subset.index, subset['runtime_x'], color='indigo', marker='o', label='CPU')\n",
    "    mt_linreg = linregress(np.log(subset.index), np.log(subset['runtime_x']))\n",
    "    \n",
    "    # Set up the scale\n",
    "    ax.set_title(state)\n",
    "    ax.set_yscale('log')\n",
    "    ax.set_xscale('log')\n",
    "    ax.legend()\n",
    "    \n",
    "    # Plot the linear regressions\n",
    "    ax.set_xlim(ax.get_xlim())\n",
    "    ax.plot(ax.get_xlim(), np.exp(wt_linreg.intercept + wt_linreg.slope * np.log(ax.get_xlim())), \n",
    "            '--', lw=1, color='firebrick')\n",
    "    ax.plot(ax.get_xlim(), np.exp(mt_linreg.intercept + mt_linreg.slope * np.log(ax.get_xlim())),\n",
    "            '--', lw=1, color='indigo')\n",
    "    \n",
    "    ax.set_xlabel('N. Electrons')\n",
    "axs[0].set_ylabel('Runtime (s)')\n",
    "    \n",
    "fig.tight_layout()"
   ]
  },
  {
   "cell_type": "code",
   "execution_count": 18,
   "id": "4a0d16b8-24e1-43e2-89ad-6a8f1088b8f6",
   "metadata": {
    "execution": {
     "iopub.execute_input": "2022-12-19T19:27:30.114608Z",
     "iopub.status.busy": "2022-12-19T19:27:30.114331Z",
     "iopub.status.idle": "2022-12-19T19:27:30.119786Z",
     "shell.execute_reply": "2022-12-19T19:27:30.119492Z"
    }
   },
   "outputs": [
    {
     "data": {
      "text/plain": [
       "count    36.000000\n",
       "mean      2.529519\n",
       "std       0.301469\n",
       "min       2.002601\n",
       "25%       2.427743\n",
       "50%       2.495880\n",
       "75%       2.593431\n",
       "max       3.564770\n",
       "Name: speedup, dtype: float64"
      ]
     },
     "execution_count": 18,
     "metadata": {},
     "output_type": "execute_result"
    }
   ],
   "source": [
    "merged.speedup.describe()"
   ]
  },
  {
   "cell_type": "code",
   "execution_count": 19,
   "id": "fe6071dc-62b8-45d1-aebb-36591803c81e",
   "metadata": {
    "execution": {
     "iopub.execute_input": "2022-12-19T19:27:30.121348Z",
     "iopub.status.busy": "2022-12-19T19:27:30.121100Z",
     "iopub.status.idle": "2022-12-19T19:27:30.132797Z",
     "shell.execute_reply": "2022-12-19T19:27:30.132442Z"
    }
   },
   "outputs": [
    {
     "data": {
      "text/html": [
       "<div>\n",
       "<style scoped>\n",
       "    .dataframe tbody tr th:only-of-type {\n",
       "        vertical-align: middle;\n",
       "    }\n",
       "\n",
       "    .dataframe tbody tr th {\n",
       "        vertical-align: top;\n",
       "    }\n",
       "\n",
       "    .dataframe thead th {\n",
       "        text-align: right;\n",
       "    }\n",
       "</style>\n",
       "<table border=\"1\" class=\"dataframe\">\n",
       "  <thead>\n",
       "    <tr style=\"text-align: right;\">\n",
       "      <th></th>\n",
       "      <th>count</th>\n",
       "      <th>mean</th>\n",
       "      <th>std</th>\n",
       "      <th>min</th>\n",
       "      <th>25%</th>\n",
       "      <th>50%</th>\n",
       "      <th>75%</th>\n",
       "      <th>max</th>\n",
       "    </tr>\n",
       "    <tr>\n",
       "      <th>state</th>\n",
       "      <th></th>\n",
       "      <th></th>\n",
       "      <th></th>\n",
       "      <th></th>\n",
       "      <th></th>\n",
       "      <th></th>\n",
       "      <th></th>\n",
       "      <th></th>\n",
       "    </tr>\n",
       "  </thead>\n",
       "  <tbody>\n",
       "    <tr>\n",
       "      <th>neutral</th>\n",
       "      <td>12.0</td>\n",
       "      <td>2.425844</td>\n",
       "      <td>0.154116</td>\n",
       "      <td>2.002601</td>\n",
       "      <td>2.409051</td>\n",
       "      <td>2.449552</td>\n",
       "      <td>2.497902</td>\n",
       "      <td>2.585535</td>\n",
       "    </tr>\n",
       "    <tr>\n",
       "      <th>oxidized</th>\n",
       "      <td>12.0</td>\n",
       "      <td>2.576711</td>\n",
       "      <td>0.377806</td>\n",
       "      <td>2.119474</td>\n",
       "      <td>2.401218</td>\n",
       "      <td>2.539015</td>\n",
       "      <td>2.627051</td>\n",
       "      <td>3.564770</td>\n",
       "    </tr>\n",
       "    <tr>\n",
       "      <th>reduced</th>\n",
       "      <td>12.0</td>\n",
       "      <td>2.586002</td>\n",
       "      <td>0.324116</td>\n",
       "      <td>2.212751</td>\n",
       "      <td>2.439605</td>\n",
       "      <td>2.501874</td>\n",
       "      <td>2.640648</td>\n",
       "      <td>3.483831</td>\n",
       "    </tr>\n",
       "  </tbody>\n",
       "</table>\n",
       "</div>"
      ],
      "text/plain": [
       "          count      mean       std       min       25%       50%       75%  \\\n",
       "state                                                                         \n",
       "neutral    12.0  2.425844  0.154116  2.002601  2.409051  2.449552  2.497902   \n",
       "oxidized   12.0  2.576711  0.377806  2.119474  2.401218  2.539015  2.627051   \n",
       "reduced    12.0  2.586002  0.324116  2.212751  2.439605  2.501874  2.640648   \n",
       "\n",
       "               max  \n",
       "state               \n",
       "neutral   2.585535  \n",
       "oxidized  3.564770  \n",
       "reduced   3.483831  "
      ]
     },
     "execution_count": 19,
     "metadata": {},
     "output_type": "execute_result"
    }
   ],
   "source": [
    "merged.groupby('state')['speedup'].describe()"
   ]
  },
  {
   "cell_type": "code",
   "execution_count": 20,
   "id": "09b8e335-7540-4f18-811c-9a7714f35aff",
   "metadata": {
    "execution": {
     "iopub.execute_input": "2022-12-19T19:27:30.134351Z",
     "iopub.status.busy": "2022-12-19T19:27:30.134170Z",
     "iopub.status.idle": "2022-12-19T19:27:30.252877Z",
     "shell.execute_reply": "2022-12-19T19:27:30.252481Z"
    }
   },
   "outputs": [
    {
     "data": {
      "image/png": "[encoded data removed]",
      "text/plain": [
       "<Figure size 350x250 with 1 Axes>"
      ]
     },
     "metadata": {},
     "output_type": "display_data"
    }
   ],
   "source": [
    "fig, ax = plt.subplots(1, sharey=True, figsize=(3.5, 2.5))\n",
    "\n",
    "for state, group in merged.groupby('state'):\n",
    "    subset = group.groupby('n_electrons').mean()\n",
    "        \n",
    "    # Plot the values\n",
    "    ax.plot(subset.index, subset['speedup'], '--o', label=state)\n",
    "    \n",
    "# Set up the scale\n",
    "ax.set_ylabel('Speedup (x)')\n",
    "ax.set_xlabel('N. Electrons')\n",
    "ax.legend()\n",
    "    \n",
    "fig.tight_layout()"
   ]
  },
  {
   "cell_type": "markdown",
   "id": "752ffa75-fd57-4f6f-aa07-02f060ab010c",
   "metadata": {},
   "source": [
    "Speedup does seem pretty constant around 2, maybe decreasing with system size"
   ]
  },
  {
   "cell_type": "markdown",
   "id": "b6926efb-ae3c-46ec-b2fb-25a690e0dd15",
   "metadata": {},
   "source": [
    "## Compare to NWChem\n",
    "Make sure we are close to our baseline values"
   ]
  },
  {
   "cell_type": "markdown",
   "id": "4c08db17-da86-453e-863d-c35c693650d3",
   "metadata": {},
   "source": [
    "Get the GPU records"
   ]
  },
  {
   "cell_type": "code",
   "execution_count": 21,
   "id": "04198454-7c85-4fbd-94ba-f519cd62f6ff",
   "metadata": {
    "execution": {
     "iopub.execute_input": "2022-12-19T19:27:30.254838Z",
     "iopub.status.busy": "2022-12-19T19:27:30.254576Z",
     "iopub.status.idle": "2022-12-19T19:27:30.264088Z",
     "shell.execute_reply": "2022-12-19T19:27:30.263754Z"
    }
   },
   "outputs": [
    {
     "name": "stdout",
     "output_type": "stream",
     "text": [
      "Reduced to 44 results for MT-GPU\n"
     ]
    },
    {
     "data": {
      "text/html": [
       "<div>\n",
       "<style scoped>\n",
       "    .dataframe tbody tr th:only-of-type {\n",
       "        vertical-align: middle;\n",
       "    }\n",
       "\n",
       "    .dataframe tbody tr th {\n",
       "        vertical-align: top;\n",
       "    }\n",
       "\n",
       "    .dataframe thead th {\n",
       "        text-align: right;\n",
       "    }\n",
       "</style>\n",
       "<table border=\"1\" class=\"dataframe\">\n",
       "  <thead>\n",
       "    <tr style=\"text-align: right;\">\n",
       "      <th></th>\n",
       "      <th>inchi_key</th>\n",
       "      <th>state</th>\n",
       "      <th>potential</th>\n",
       "      <th>runtime</th>\n",
       "      <th>level_id</th>\n",
       "      <th>n_electrons</th>\n",
       "      <th>solver</th>\n",
       "      <th>basis_set</th>\n",
       "      <th>xc</th>\n",
       "      <th>cutoff</th>\n",
       "      <th>buffer</th>\n",
       "    </tr>\n",
       "  </thead>\n",
       "  <tbody>\n",
       "    <tr>\n",
       "      <th>36</th>\n",
       "      <td>VNWKTOKETHGBQD-UHFFFAOYSA-N</td>\n",
       "      <td>oxidized</td>\n",
       "      <td>12.255982</td>\n",
       "      <td>237.848737</td>\n",
       "      <td>3</td>\n",
       "      <td>6</td>\n",
       "      <td>mt-gpu</td>\n",
       "      <td>AUG-DZVP-GTH</td>\n",
       "      <td>BLYP</td>\n",
       "      <td>500</td>\n",
       "      <td>6</td>\n",
       "    </tr>\n",
       "    <tr>\n",
       "      <th>37</th>\n",
       "      <td>IJDNQMDRQITEOD-UHFFFAOYSA-N</td>\n",
       "      <td>oxidized</td>\n",
       "      <td>9.666715</td>\n",
       "      <td>1075.651902</td>\n",
       "      <td>3</td>\n",
       "      <td>24</td>\n",
       "      <td>mt-gpu</td>\n",
       "      <td>AUG-DZVP-GTH</td>\n",
       "      <td>BLYP</td>\n",
       "      <td>500</td>\n",
       "      <td>6</td>\n",
       "    </tr>\n",
       "  </tbody>\n",
       "</table>\n",
       "</div>"
      ],
      "text/plain": [
       "                      inchi_key     state  potential      runtime  level_id  \\\n",
       "36  VNWKTOKETHGBQD-UHFFFAOYSA-N  oxidized  12.255982   237.848737         3   \n",
       "37  IJDNQMDRQITEOD-UHFFFAOYSA-N  oxidized   9.666715  1075.651902         3   \n",
       "\n",
       "    n_electrons  solver     basis_set    xc  cutoff  buffer  \n",
       "36            6  mt-gpu  AUG-DZVP-GTH  BLYP     500       6  \n",
       "37           24  mt-gpu  AUG-DZVP-GTH  BLYP     500       6  "
      ]
     },
     "execution_count": 21,
     "metadata": {},
     "output_type": "execute_result"
    }
   ],
   "source": [
    "gpu_records = records.copy()\n",
    "gpu_params.pop('basis_set', None)\n",
    "for k, v in gpu_params.items():\n",
    "    gpu_records = gpu_records[gpu_records[k] == v]\n",
    "print(f'Reduced to {len(gpu_records)} results for MT-GPU')\n",
    "gpu_records.head(2)"
   ]
  },
  {
   "cell_type": "code",
   "execution_count": 22,
   "id": "041a8ee2-de6a-405e-9d88-e1e249fb8481",
   "metadata": {
    "execution": {
     "iopub.execute_input": "2022-12-19T19:27:30.265679Z",
     "iopub.status.busy": "2022-12-19T19:27:30.265464Z",
     "iopub.status.idle": "2022-12-19T19:27:30.268275Z",
     "shell.execute_reply": "2022-12-19T19:27:30.267967Z"
    }
   },
   "outputs": [
    {
     "name": "stdout",
     "output_type": "stream",
     "text": [
      "Ran CP2K for 12 molecules\n"
     ]
    }
   ],
   "source": [
    "chosen = gpu_records\n",
    "print(f'Ran CP2K for {len(chosen.inchi_key.value_counts())} molecules')"
   ]
  },
  {
   "cell_type": "code",
   "execution_count": 23,
   "id": "ecdce3a2-5830-4fff-b9cf-6003e062cc86",
   "metadata": {
    "execution": {
     "iopub.execute_input": "2022-12-19T19:27:30.269635Z",
     "iopub.status.busy": "2022-12-19T19:27:30.269458Z",
     "iopub.status.idle": "2022-12-19T19:27:30.274608Z",
     "shell.execute_reply": "2022-12-19T19:27:30.274287Z"
    }
   },
   "outputs": [
    {
     "name": "stdout",
     "output_type": "stream",
     "text": [
      "Ran NWChem for 12 molecules\n"
     ]
    }
   ],
   "source": [
    "nwchem_results = pd.read_csv('../nwchem/nwchem-redox-potentials.csv')\n",
    "print(f'Ran NWChem for {len(nwchem_results.inchi_key.value_counts())} molecules')"
   ]
  },
  {
   "cell_type": "markdown",
   "id": "185bc4fc-af29-477a-8286-e54bb81bd2dc",
   "metadata": {},
   "source": [
    "Compare to NWChem"
   ]
  },
  {
   "cell_type": "code",
   "execution_count": 24,
   "id": "e253090f-8d0b-4e78-b937-c0bfbb52de24",
   "metadata": {
    "execution": {
     "iopub.execute_input": "2022-12-19T19:27:30.276014Z",
     "iopub.status.busy": "2022-12-19T19:27:30.275837Z",
     "iopub.status.idle": "2022-12-19T19:27:30.277962Z",
     "shell.execute_reply": "2022-12-19T19:27:30.277639Z"
    }
   },
   "outputs": [],
   "source": [
    "matched_basis = [('AUG-DZVP-GTH', 'aug-cc-pvdz'), ('DZVP-GTH', 'cc-pvdz')]"
   ]
  },
  {
   "cell_type": "code",
   "execution_count": 25,
   "id": "ca134f79-78c5-48a4-89cf-1c5bf5e3f1f8",
   "metadata": {
    "execution": {
     "iopub.execute_input": "2022-12-19T19:27:30.279405Z",
     "iopub.status.busy": "2022-12-19T19:27:30.279234Z",
     "iopub.status.idle": "2022-12-19T19:27:30.642779Z",
     "shell.execute_reply": "2022-12-19T19:27:30.642429Z"
    }
   },
   "outputs": [
    {
     "data": {
      "image/png": "[encoded data removed]",
      "text/plain": [
       "<Figure size 650x350 with 4 Axes>"
      ]
     },
     "metadata": {},
     "output_type": "display_data"
    }
   ],
   "source": [
    "fig, axs = plt.subplots(2, len(matched_basis), figsize=(6.5, 3.5))\n",
    "\n",
    "for ax, (cp2k_basis, nwc_basis) in zip(axs[:, :].T, matched_basis):\n",
    "    ax[0].set_title(f'Basis: {nwc_basis}', fontsize=10, loc='left')\n",
    "    nwchem_subset = nwchem_results.query(f'basis_set==\"{nwc_basis}\"').sort_values('runtime', ascending=True).drop_duplicates(('inchi_key', 'state'), keep='first')\n",
    "    merged = chosen.query(f'basis_set==\"{cp2k_basis}\"').merge(nwchem_subset, on=('inchi_key', 'state'))\n",
    "    \n",
    "    for a, s in zip(ax, ['reduced', 'oxidized']): \n",
    "        subset = merged.query(f'state==\"{s}\"')\n",
    "        a.scatter(subset['potential_x'], subset['potential_y'], label=s)\n",
    "        mae = (subset['potential_x'] - subset['potential_y']).abs().mean()\n",
    "    \n",
    "        a.set_xlim(a.get_xlim())\n",
    "        a.set_ylim(a.get_ylim())\n",
    "    \n",
    "        a.plot(a.get_xlim(), a.get_xlim(), 'k--', lw=1)\n",
    "        \n",
    "        a.text(0.02, 0.95, s.capitalize() + f'\\n  MAE: {mae:.2f}V', ha='left', va='top', transform=a.transAxes)\n",
    "    \n",
    "    ax[-1].set_xlabel('Potential, CP2K (V)')\n",
    "    \n",
    "for ax in axs[:, 0]:\n",
    "    ax.set_ylabel('Potential, NWChem (V)', fontsize=9)\n",
    "    \n",
    "fig.tight_layout()"
   ]
  },
  {
   "cell_type": "markdown",
   "id": "c2c68775-88e9-43c6-9240-c43289ef2bd4",
   "metadata": {},
   "source": [
    "Compare the runtimes"
   ]
  },
  {
   "cell_type": "code",
   "execution_count": 26,
   "id": "6c11fe17-39b6-4dd7-bd2a-65534e5b874f",
   "metadata": {
    "execution": {
     "iopub.execute_input": "2022-12-19T19:27:30.644590Z",
     "iopub.status.busy": "2022-12-19T19:27:30.644452Z",
     "iopub.status.idle": "2022-12-19T19:27:31.403369Z",
     "shell.execute_reply": "2022-12-19T19:27:31.403008Z"
    }
   },
   "outputs": [
    {
     "data": {
      "image/png": "[encoded data removed]",
      "text/plain": [
       "<Figure size 650x225 with 2 Axes>"
      ]
     },
     "metadata": {},
     "output_type": "display_data"
    }
   ],
   "source": [
    "fig, axs = plt.subplots(1, len(matched_basis), sharey=True, sharex=True, figsize=(6.5, 2.25))\n",
    "\n",
    "for ax, (cp2k_basis, nwc_basis) in zip(axs, matched_basis):\n",
    "    nwchem_subset = nwchem_results.query(f'basis_set==\"{nwc_basis}\"').sort_values('runtime', ascending=True).drop_duplicates(('inchi_key', 'state'), keep='first')\n",
    "    merged = chosen.query(f'basis_set==\"{cp2k_basis}\"').merge(nwchem_subset, on=('inchi_key', 'state'))\n",
    "    \n",
    "    subset = merged.groupby('n_electrons').mean()\n",
    "        \n",
    "    # Plot the values\n",
    "    ax.scatter(subset.index, subset['runtime_y'], color='firebrick', marker='s', label='NWChem')\n",
    "    nwc_linreg = siegelslopes(np.log(subset['runtime_y']), np.log(subset.index))\n",
    "    ax.text(10, np.exp(nwc_linreg.intercept + nwc_linreg.slope * np.log(10)), \n",
    "            f'$t \\propto N^{{{nwc_linreg.slope:.1f}}}$', va='top')\n",
    "    \n",
    "    ax.scatter(subset.index, subset['runtime_x'], color='indigo', marker='o', label='CP2K')\n",
    "    cpk_linreg = siegelslopes(np.log(subset['runtime_x']), np.log(subset.index))\n",
    "    ax.text(10, np.exp(cpk_linreg.intercept + cpk_linreg.slope * np.log(10)), \n",
    "            f'$t \\propto N^{{{cpk_linreg.slope:.1f}}}$', va='top')\n",
    "    \n",
    "    # Set up the scale\n",
    "    ax.set_yscale('log')\n",
    "    ax.set_xscale('log')\n",
    "    \n",
    "    # Plot the linear regressions\n",
    "    ax.set_xlim([4, 400])\n",
    "    ax.plot(ax.get_xlim(), np.exp(nwc_linreg.intercept + nwc_linreg.slope * np.log(ax.get_xlim())), \n",
    "            '--', lw=1, color='firebrick')\n",
    "    ax.plot(ax.get_xlim(), np.exp(cpk_linreg.intercept + cpk_linreg.slope * np.log(ax.get_xlim())),\n",
    "            '--', lw=1, color='indigo')\n",
    "    \n",
    "    ax.set_xlabel('N. Electrons')\n",
    "    ax.set_title(f'Basis: {nwc_basis}', fontsize=10, loc='left')\n",
    "\n",
    "axs[0].set_ylabel('Runtime (s)')\n",
    "axs[0].legend()\n",
    "fig.tight_layout()"
   ]
  },
  {
   "cell_type": "code",
   "execution_count": null,
   "id": "c9f35470-29c5-4fcf-bbdd-1028630fee43",
   "metadata": {},
   "outputs": [],
   "source": []
  }
 ],
 "metadata": {
  "kernelspec": {
   "display_name": "Python 3 (ipykernel)",
   "language": "python",
   "name": "python3"
  },
  "language_info": {
   "codemirror_mode": {
    "name": "ipython",
    "version": 3
   },
   "file_extension": ".py",
   "mimetype": "text/x-python",
   "name": "python",
   "nbconvert_exporter": "python",
   "pygments_lexer": "ipython3",
   "version": "3.10.6"
  }
 },
 "nbformat": 4,
 "nbformat_minor": 5
}
