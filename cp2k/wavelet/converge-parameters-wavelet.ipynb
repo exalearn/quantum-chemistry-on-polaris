{
 "cells": [
  {
   "cell_type": "markdown",
   "id": "1bf74478-4808-41b9-a46d-6aaeef8bbeb3",
   "metadata": {},
   "source": [
    "# Convert for CP2K"
   ]
  },
  {
   "cell_type": "code",
   "execution_count": 1,
   "id": "ff4e33a7-2ba4-4254-856c-568fa34d861c",
   "metadata": {},
   "outputs": [],
   "source": [
    "%matplotlib inline\n",
    "from matplotlib import pyplot as plt\n",
    "from ase.calculators.cp2k import CP2K\n",
    "from tempfile import TemporaryDirectory\n",
    "from contextlib import redirect_stderr\n",
    "from ase.build import molecule\n",
    "from ase.io import read\n",
    "from io import StringIO\n",
    "from tqdm import tqdm\n",
    "import pandas as pd\n",
    "import numpy as np\n",
    "import os\n",
    "from ase import units"
   ]
  },
  {
   "cell_type": "markdown",
   "id": "ad8150b7-fdb5-414f-9ec4-3b47c05a95be",
   "metadata": {},
   "source": [
    "## Get Example Molecules\n",
    "Let's test on at least Methane"
   ]
  },
  {
   "cell_type": "code",
   "execution_count": 2,
   "id": "dda8b206-2d7f-4671-8c0e-7db7830652af",
   "metadata": {},
   "outputs": [
    {
     "name": "stdout",
     "output_type": "stream",
     "text": [
      "Loaded a total of 12 molecules\n"
     ]
    }
   ],
   "source": [
    "molecules = pd.read_csv('../../data/example_molecules.csv')\n",
    "print(f'Loaded a total of {len(molecules)} molecules')"
   ]
  },
  {
   "cell_type": "code",
   "execution_count": 3,
   "id": "96c1b7bf-11e0-4a29-b029-791d4e5378db",
   "metadata": {},
   "outputs": [
    {
     "data": {
      "text/plain": [
       "Atoms(symbols='C3NOH7', pbc=False)"
      ]
     },
     "execution_count": 3,
     "metadata": {},
     "output_type": "execute_result"
    }
   ],
   "source": [
    "row = molecules.iloc[2]\n",
    "atoms = read(StringIO(row['xyz_neutral']), format='xyz').copy()\n",
    "atoms"
   ]
  },
  {
   "cell_type": "markdown",
   "id": "6a6ad781-8d41-4c11-acc0-76a3343a70a0",
   "metadata": {},
   "source": [
    "CP2K requires us to define a cell even for non-periodic systems"
   ]
  },
  {
   "cell_type": "code",
   "execution_count": 4,
   "id": "aaae25c2-55f0-44aa-acd3-b85c4fd671ad",
   "metadata": {},
   "outputs": [],
   "source": [
    "def buffer_cell(atoms, buffer_size: float = 3.): \n",
    "    \"\"\"How to buffer the cell such that it has a vacuum layer around the side\n",
    "    \n",
    "    Args:\n",
    "        atoms: Atoms to be centered\n",
    "        positions: Size of the buffer to place around the atoms\n",
    "    \"\"\"\n",
    "\n",
    "    atoms.positions -= atoms.positions.min(axis=0)\n",
    "    atoms.cell = [atoms.positions.max() + buffer_size * 2] * 3\n",
    "    atoms.positions += atoms.cell.max(axis=0) / 2 - atoms.positions.mean(axis=0)\n",
    "buffer_cell(atoms)"
   ]
  },
  {
   "cell_type": "markdown",
   "id": "754a2771-57c4-4776-af8e-878112b14f73",
   "metadata": {},
   "source": [
    "## Evalute the effect of convergence of buffer size and cutoff\n",
    "We have two"
   ]
  },
  {
   "cell_type": "code",
   "execution_count": 5,
   "id": "2fea7a26-6bf9-43eb-a225-a9f89723109b",
   "metadata": {},
   "outputs": [],
   "source": [
    "cp2k_opts = dict(\n",
    "    xc=None,\n",
    "    inp=\"\"\"\n",
    "&FORCE_EVAL\n",
    "&DFT\n",
    "  &XC\n",
    "     &XC_FUNCTIONAL BLYP\n",
    "     &END XC_FUNCTIONAL\n",
    "  &END XC\n",
    "  &MGRID\n",
    "      NGRIDS 1\n",
    "  &END MGRID\n",
    "  &POISSON\n",
    "     PERIODIC NONE\n",
    "     PSOLVER WAVELET\n",
    "  &END POISSON\n",
    "  &QS\n",
    "      EXTRAPOLATION USE_GUESS\n",
    "  &END QS\n",
    "&END DFT\n",
    "&END FORCE_EVAL\"\"\",\n",
    "    basis_set_file='GTH_BASIS_SETS',\n",
    "    basis_set='DZVP-GTH',\n",
    "    pseudo_potential='GTH-BLYP',\n",
    "    poisson_solver=None,\n",
    ")  # Use BLYP as we have PPs for it\n",
    "calc = CP2K(charge=-1, uks=True, directory='wavelet-conv', **cp2k_opts)"
   ]
  },
  {
   "cell_type": "code",
   "execution_count": 6,
   "id": "0faf9bda-d4ad-484c-9615-05ef6e542774",
   "metadata": {},
   "outputs": [
    {
     "name": "stdout",
     "output_type": "stream",
     "text": [
      "Testing 13 energies\n"
     ]
    }
   ],
   "source": [
    "cutoffs = np.arange(200., 800.1, 50.)\n",
    "print(f'Testing {len(cutoffs)} energies')"
   ]
  },
  {
   "cell_type": "markdown",
   "id": "96f21145-a50e-4087-8447-0d7b499ae991",
   "metadata": {},
   "source": [
    "Test many cutoff energies"
   ]
  },
  {
   "cell_type": "code",
   "execution_count": 7,
   "id": "6765ba4f-927a-42f4-a9a6-fb45f610e130",
   "metadata": {},
   "outputs": [
    {
     "name": "stderr",
     "output_type": "stream",
     "text": [
      "100%|█████████████████████████████████████████████████████████████████████████████████████████████████████████████████████████████████████████████████████████████████████████| 13/13 [14:36<00:00, 67.41s/it]\n"
     ]
    }
   ],
   "source": [
    "forces = []\n",
    "energy = []\n",
    "for cutoff in tqdm(cutoffs):\n",
    "    calc.set(cutoff=cutoff * units.Ry)\n",
    "    forces.append(calc.get_forces(atoms))\n",
    "    energy.append(calc.get_potential_energy(atoms))"
   ]
  },
  {
   "cell_type": "code",
   "execution_count": 8,
   "id": "92ac9f12-d3e4-4615-9fd1-f2c6ddf8f2a7",
   "metadata": {},
   "outputs": [
    {
     "data": {
      "image/png": "[encoded data removed]",
      "text/plain": [
       "<Figure size 350x250 with 1 Axes>"
      ]
     },
     "metadata": {},
     "output_type": "display_data"
    }
   ],
   "source": [
    "fig, ax = plt.subplots(figsize=(3.5, 2.5))\n",
    "\n",
    "rmse = [np.sqrt(np.power(f - forces[-1], 2).mean()) for f in forces]\n",
    "ax.semilogy(cutoffs, rmse)\n",
    "\n",
    "ax.set_ylim(1e-4, max(ax.get_ylim()))\n",
    "\n",
    "ax.set_xlabel('Cutoff (Ry)')\n",
    "ax.set_ylabel('RMSE (eV/$\\\\AA$)')\n",
    "fig.tight_layout()"
   ]
  },
  {
   "cell_type": "code",
   "execution_count": 9,
   "id": "f5969512-7464-47b3-9d6a-0033423302af",
   "metadata": {},
   "outputs": [
    {
     "data": {
      "image/png": "[encoded data removed]",
      "text/plain": [
       "<Figure size 350x250 with 1 Axes>"
      ]
     },
     "metadata": {},
     "output_type": "display_data"
    }
   ],
   "source": [
    "fig, ax = plt.subplots(figsize=(3.5, 2.5))\n",
    "\n",
    "ax.plot(cutoffs, np.subtract(energy, energy[-1]), '--o')\n",
    "\n",
    "ax.set_xlim(ax.get_xlim())\n",
    "ax.plot(ax.get_xlim(), [1e-3]*2, 'k--', lw=1)\n",
    "ax.plot(ax.get_xlim(), [-1e-3]*2, 'k--', lw=1)\n",
    "\n",
    "ax.set_yscale('symlog', linthresh=1e-3)\n",
    "\n",
    "ax.set_xlabel('Cutoff (eV)')\n",
    "ax.set_ylabel('Energy Diff. (eV)')\n",
    "fig.tight_layout()"
   ]
  },
  {
   "cell_type": "markdown",
   "id": "5ac58b8f-c192-4a51-b1a1-4b32d47ddc53",
   "metadata": {},
   "source": [
    "We converge at a cutoff of around 400 Ry. The jumps are due to discretization"
   ]
  },
  {
   "cell_type": "code",
   "execution_count": 10,
   "id": "fef0067e-cab7-4a68-a6a4-854353228a4c",
   "metadata": {},
   "outputs": [],
   "source": [
    "buffers = np.arange(2., 10.1, 1.)\n",
    "calc.set(cutoff=400 * units.Ry)"
   ]
  },
  {
   "cell_type": "code",
   "execution_count": 11,
   "id": "f36adc58-cfaf-422c-b49a-8fec7b29e015",
   "metadata": {},
   "outputs": [
    {
     "name": "stderr",
     "output_type": "stream",
     "text": [
      "100%|██████████████████████████████████████████████████████████████████████████████████████████████████████████████████████████████████████████████████████████████████████████| 9/9 [40:48<00:00, 272.04s/it]\n"
     ]
    }
   ],
   "source": [
    "forces = []\n",
    "energy = []\n",
    "for b in tqdm(buffers):\n",
    "    buffer_cell(atoms, buffer_size=b)\n",
    "    \n",
    "    forces.append(calc.get_forces(atoms))\n",
    "    energy.append(calc.get_potential_energy(atoms))"
   ]
  },
  {
   "cell_type": "code",
   "execution_count": 12,
   "id": "0a642591-682c-4ead-ab69-ef2c7628b830",
   "metadata": {},
   "outputs": [
    {
     "data": {
      "image/png": "[encoded data removed]",
      "text/plain": [
       "<Figure size 350x250 with 1 Axes>"
      ]
     },
     "metadata": {},
     "output_type": "display_data"
    }
   ],
   "source": [
    "fig, ax = plt.subplots(figsize=(3.5, 2.5))\n",
    "\n",
    "ax.plot(buffers, np.subtract(energy, energy[-1]), '--o')\n",
    "\n",
    "ax.set_xlim(ax.get_xlim())\n",
    "ax.plot(ax.get_xlim(), [1e-3]*2, 'k--', lw=1)\n",
    "ax.plot(ax.get_xlim(), [-1e-3]*2, 'k--', lw=1)\n",
    "\n",
    "ax.set_yscale('symlog', linthresh=1e-3)\n",
    "\n",
    "ax.set_xlabel('Buffer ($\\\\AA$)')\n",
    "ax.set_ylabel('Energy Diff. (eV)')\n",
    "fig.tight_layout()"
   ]
  },
  {
   "cell_type": "markdown",
   "id": "f1460a93-3d8b-43e6-8823-7e03b7b46361",
   "metadata": {},
   "source": [
    "A buffer size of 5 seems safe"
   ]
  },
  {
   "cell_type": "code",
   "execution_count": null,
   "id": "7b6bad1d-e2b3-4442-a588-9909fd28de03",
   "metadata": {},
   "outputs": [],
   "source": []
  }
 ],
 "metadata": {
  "kernelspec": {
   "display_name": "Python 3 (ipykernel)",
   "language": "python",
   "name": "python3"
  },
  "language_info": {
   "codemirror_mode": {
    "name": "ipython",
    "version": 3
   },
   "file_extension": ".py",
   "mimetype": "text/x-python",
   "name": "python",
   "nbconvert_exporter": "python",
   "pygments_lexer": "ipython3",
   "version": "3.10.6"
  }
 },
 "nbformat": 4,
 "nbformat_minor": 5
}
